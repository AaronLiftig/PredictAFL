{
 "cells": [
  {
   "cell_type": "markdown",
   "id": "32f4ba70",
   "metadata": {},
   "source": [
    "# AFL Fantasy and Tipping Machine Learning Models"
   ]
  },
  {
   "cell_type": "code",
   "execution_count": 1,
   "id": "fb18d744",
   "metadata": {},
   "outputs": [
    {
     "name": "stdout",
     "output_type": "stream",
     "text": [
      "1.4.2\n"
     ]
    }
   ],
   "source": [
    "import pandas as pd\n",
    "import numpy as np\n",
    "\n",
    "#Supresses scientific notation\n",
    "pd.set_option('display.float_format', lambda x: '%.2f' % x)\n",
    "\n",
    "import warnings\n",
    "warnings.filterwarnings('ignore')\n",
    "\n",
    "print(pd.__version__)"
   ]
  },
  {
   "cell_type": "markdown",
   "id": "236c6e66",
   "metadata": {},
   "source": [
    "## Importing Dataframe"
   ]
  },
  {
   "cell_type": "code",
   "execution_count": 2,
   "id": "c944a361",
   "metadata": {},
   "outputs": [
    {
     "data": {
      "text/html": [
       "<div>\n",
       "<style scoped>\n",
       "    .dataframe tbody tr th:only-of-type {\n",
       "        vertical-align: middle;\n",
       "    }\n",
       "\n",
       "    .dataframe tbody tr th {\n",
       "        vertical-align: top;\n",
       "    }\n",
       "\n",
       "    .dataframe thead th {\n",
       "        text-align: right;\n",
       "    }\n",
       "</style>\n",
       "<table border=\"1\" class=\"dataframe\">\n",
       "  <thead>\n",
       "    <tr style=\"text-align: right;\">\n",
       "      <th></th>\n",
       "      <th>year</th>\n",
       "      <th>round</th>\n",
       "      <th>Supercoach Points</th>\n",
       "      <th>AFL Fantasy Points</th>\n",
       "      <th>height</th>\n",
       "      <th>Age</th>\n",
       "      <th>weight</th>\n",
       "      <th>team</th>\n",
       "      <th>gameNumber</th>\n",
       "      <th>venue</th>\n",
       "      <th>...</th>\n",
       "      <th>Total Points Scored_prevous_year_mean_round_norm</th>\n",
       "      <th>Total Points Scored_prevous_year_mean_game_norm</th>\n",
       "      <th>Game Result_prevous_year_mean_round_norm</th>\n",
       "      <th>Game Result_prevous_year_mean_game_norm</th>\n",
       "      <th>gameNumber_prevous_year_mean_round_norm</th>\n",
       "      <th>gameNumber_prevous_year_mean_game_norm</th>\n",
       "      <th>AFL Fantasy Points_prevous_year_mean_round_norm</th>\n",
       "      <th>AFL Fantasy Points_prevous_year_mean_game_norm</th>\n",
       "      <th>Supercoach Points_prevous_year_mean_round_norm</th>\n",
       "      <th>Supercoach Points_prevous_year_mean_game_norm</th>\n",
       "    </tr>\n",
       "  </thead>\n",
       "  <tbody>\n",
       "    <tr>\n",
       "      <th>0</th>\n",
       "      <td>2021</td>\n",
       "      <td>1</td>\n",
       "      <td>62.00</td>\n",
       "      <td>50</td>\n",
       "      <td>181</td>\n",
       "      <td>19.10</td>\n",
       "      <td>81</td>\n",
       "      <td>Adelaide</td>\n",
       "      <td>1</td>\n",
       "      <td>Adelaide Oval</td>\n",
       "      <td>...</td>\n",
       "      <td>NaN</td>\n",
       "      <td>NaN</td>\n",
       "      <td>NaN</td>\n",
       "      <td>NaN</td>\n",
       "      <td>NaN</td>\n",
       "      <td>NaN</td>\n",
       "      <td>NaN</td>\n",
       "      <td>NaN</td>\n",
       "      <td>NaN</td>\n",
       "      <td>NaN</td>\n",
       "    </tr>\n",
       "    <tr>\n",
       "      <th>2</th>\n",
       "      <td>2021</td>\n",
       "      <td>1</td>\n",
       "      <td>50.00</td>\n",
       "      <td>35</td>\n",
       "      <td>198</td>\n",
       "      <td>21.22</td>\n",
       "      <td>83</td>\n",
       "      <td>Adelaide</td>\n",
       "      <td>3</td>\n",
       "      <td>Adelaide Oval</td>\n",
       "      <td>...</td>\n",
       "      <td>NaN</td>\n",
       "      <td>NaN</td>\n",
       "      <td>NaN</td>\n",
       "      <td>NaN</td>\n",
       "      <td>NaN</td>\n",
       "      <td>NaN</td>\n",
       "      <td>NaN</td>\n",
       "      <td>NaN</td>\n",
       "      <td>NaN</td>\n",
       "      <td>NaN</td>\n",
       "    </tr>\n",
       "    <tr>\n",
       "      <th>3</th>\n",
       "      <td>2021</td>\n",
       "      <td>1</td>\n",
       "      <td>90.00</td>\n",
       "      <td>65</td>\n",
       "      <td>188</td>\n",
       "      <td>24.05</td>\n",
       "      <td>88</td>\n",
       "      <td>Adelaide</td>\n",
       "      <td>31</td>\n",
       "      <td>Adelaide Oval</td>\n",
       "      <td>...</td>\n",
       "      <td>NaN</td>\n",
       "      <td>NaN</td>\n",
       "      <td>NaN</td>\n",
       "      <td>NaN</td>\n",
       "      <td>NaN</td>\n",
       "      <td>NaN</td>\n",
       "      <td>NaN</td>\n",
       "      <td>NaN</td>\n",
       "      <td>NaN</td>\n",
       "      <td>NaN</td>\n",
       "    </tr>\n",
       "    <tr>\n",
       "      <th>4</th>\n",
       "      <td>2021</td>\n",
       "      <td>1</td>\n",
       "      <td>147.00</td>\n",
       "      <td>83</td>\n",
       "      <td>200</td>\n",
       "      <td>24.33</td>\n",
       "      <td>90</td>\n",
       "      <td>Adelaide</td>\n",
       "      <td>9</td>\n",
       "      <td>Adelaide Oval</td>\n",
       "      <td>...</td>\n",
       "      <td>NaN</td>\n",
       "      <td>NaN</td>\n",
       "      <td>NaN</td>\n",
       "      <td>NaN</td>\n",
       "      <td>NaN</td>\n",
       "      <td>NaN</td>\n",
       "      <td>NaN</td>\n",
       "      <td>NaN</td>\n",
       "      <td>NaN</td>\n",
       "      <td>NaN</td>\n",
       "    </tr>\n",
       "    <tr>\n",
       "      <th>5</th>\n",
       "      <td>2021</td>\n",
       "      <td>1</td>\n",
       "      <td>42.00</td>\n",
       "      <td>37</td>\n",
       "      <td>186</td>\n",
       "      <td>20.34</td>\n",
       "      <td>71</td>\n",
       "      <td>Adelaide</td>\n",
       "      <td>9</td>\n",
       "      <td>Adelaide Oval</td>\n",
       "      <td>...</td>\n",
       "      <td>NaN</td>\n",
       "      <td>NaN</td>\n",
       "      <td>NaN</td>\n",
       "      <td>NaN</td>\n",
       "      <td>NaN</td>\n",
       "      <td>NaN</td>\n",
       "      <td>NaN</td>\n",
       "      <td>NaN</td>\n",
       "      <td>NaN</td>\n",
       "      <td>NaN</td>\n",
       "    </tr>\n",
       "  </tbody>\n",
       "</table>\n",
       "<p>5 rows × 2191 columns</p>\n",
       "</div>"
      ],
      "text/plain": [
       "   year  round  Supercoach Points  AFL Fantasy Points  height   Age  weight  \\\n",
       "0  2021      1              62.00                  50     181 19.10      81   \n",
       "2  2021      1              50.00                  35     198 21.22      83   \n",
       "3  2021      1              90.00                  65     188 24.05      88   \n",
       "4  2021      1             147.00                  83     200 24.33      90   \n",
       "5  2021      1              42.00                  37     186 20.34      71   \n",
       "\n",
       "       team  gameNumber          venue  ...  \\\n",
       "0  Adelaide           1  Adelaide Oval  ...   \n",
       "2  Adelaide           3  Adelaide Oval  ...   \n",
       "3  Adelaide          31  Adelaide Oval  ...   \n",
       "4  Adelaide           9  Adelaide Oval  ...   \n",
       "5  Adelaide           9  Adelaide Oval  ...   \n",
       "\n",
       "  Total Points Scored_prevous_year_mean_round_norm  \\\n",
       "0                                              NaN   \n",
       "2                                              NaN   \n",
       "3                                              NaN   \n",
       "4                                              NaN   \n",
       "5                                              NaN   \n",
       "\n",
       "   Total Points Scored_prevous_year_mean_game_norm  \\\n",
       "0                                              NaN   \n",
       "2                                              NaN   \n",
       "3                                              NaN   \n",
       "4                                              NaN   \n",
       "5                                              NaN   \n",
       "\n",
       "   Game Result_prevous_year_mean_round_norm  \\\n",
       "0                                       NaN   \n",
       "2                                       NaN   \n",
       "3                                       NaN   \n",
       "4                                       NaN   \n",
       "5                                       NaN   \n",
       "\n",
       "   Game Result_prevous_year_mean_game_norm  \\\n",
       "0                                      NaN   \n",
       "2                                      NaN   \n",
       "3                                      NaN   \n",
       "4                                      NaN   \n",
       "5                                      NaN   \n",
       "\n",
       "  gameNumber_prevous_year_mean_round_norm  \\\n",
       "0                                     NaN   \n",
       "2                                     NaN   \n",
       "3                                     NaN   \n",
       "4                                     NaN   \n",
       "5                                     NaN   \n",
       "\n",
       "   gameNumber_prevous_year_mean_game_norm  \\\n",
       "0                                     NaN   \n",
       "2                                     NaN   \n",
       "3                                     NaN   \n",
       "4                                     NaN   \n",
       "5                                     NaN   \n",
       "\n",
       "   AFL Fantasy Points_prevous_year_mean_round_norm  \\\n",
       "0                                              NaN   \n",
       "2                                              NaN   \n",
       "3                                              NaN   \n",
       "4                                              NaN   \n",
       "5                                              NaN   \n",
       "\n",
       "   AFL Fantasy Points_prevous_year_mean_game_norm  \\\n",
       "0                                             NaN   \n",
       "2                                             NaN   \n",
       "3                                             NaN   \n",
       "4                                             NaN   \n",
       "5                                             NaN   \n",
       "\n",
       "   Supercoach Points_prevous_year_mean_round_norm  \\\n",
       "0                                             NaN   \n",
       "2                                             NaN   \n",
       "3                                             NaN   \n",
       "4                                             NaN   \n",
       "5                                             NaN   \n",
       "\n",
       "   Supercoach Points_prevous_year_mean_game_norm  \n",
       "0                                            NaN  \n",
       "2                                            NaN  \n",
       "3                                            NaN  \n",
       "4                                            NaN  \n",
       "5                                            NaN  \n",
       "\n",
       "[5 rows x 2191 columns]"
      ]
     },
     "execution_count": 2,
     "metadata": {},
     "output_type": "execute_result"
    }
   ],
   "source": [
    "# Requires AFL_dataset.csv, which was created in the AFL_DataCleaning notebook\n",
    "df_final = pd.read_csv('AFL_dataset.csv', index_col=0, skipinitialspace=True, low_memory=False)\n",
    "\n",
    "df_final.head()"
   ]
  },
  {
   "cell_type": "code",
   "execution_count": 3,
   "id": "65460c5e",
   "metadata": {},
   "outputs": [],
   "source": [
    "df_final.set_index('homeTeam', append=True, inplace=True)\n",
    "df_final.set_index('team', drop=False, append=True, inplace=True)"
   ]
  },
  {
   "cell_type": "markdown",
   "id": "38ac40ea",
   "metadata": {},
   "source": [
    "## Creating dummies columns and eliminating NaN and infinities"
   ]
  },
  {
   "cell_type": "code",
   "execution_count": 4,
   "id": "ed45418b",
   "metadata": {},
   "outputs": [],
   "source": [
    "df_final_w_dummies = pd.get_dummies(df_final)"
   ]
  },
  {
   "cell_type": "code",
   "execution_count": 5,
   "id": "2d40f833",
   "metadata": {},
   "outputs": [],
   "source": [
    "numerical_list = list(df_final_w_dummies.select_dtypes('number').columns)"
   ]
  },
  {
   "cell_type": "code",
   "execution_count": 6,
   "id": "53770352",
   "metadata": {},
   "outputs": [],
   "source": [
    "total_rows = df_final_w_dummies.shape[0]\n",
    "\n",
    "for col in numerical_list:\n",
    "    total_nans = df_final_w_dummies[col].isna().sum()\n",
    "    total_infs = df_final_w_dummies[col].isin([np.inf]).sum()\n",
    "    total_neg_infs = df_final_w_dummies[col].isin([-np.inf]).sum()\n",
    "    \n",
    "    if total_rows in [total_nans, total_infs, total_neg_infs]:\n",
    "        df_final_w_dummies.drop(col, axis=1, inplace=True)\n",
    "        continue\n",
    "    \n",
    "    if df_final_w_dummies[col].isna().sum() != 0:\n",
    "        df_final_w_dummies[f'{col}_nan'] = np.where(df_final_w_dummies[col].isna(), 1, 0)\n",
    "    if df_final_w_dummies[col].isin([np.inf]).sum() != 0:\n",
    "        df_final_w_dummies[f'{col}_inf'] = np.where(df_final_w_dummies[col].isin([np.inf]), 1, 0)\n",
    "    if df_final_w_dummies[col].isin([-np.inf]).sum() != 0:\n",
    "        df_final_w_dummies[f'{col}_neg_inf'] = np.where(df_final_w_dummies[col].isin([-np.inf]), 1, 0)\n",
    "        \n",
    "df_final_w_dummies.fillna(0, inplace=True)\n",
    "df_final_w_dummies.replace(np.inf, 0, inplace=True)\n",
    "df_final_w_dummies.replace(-np.inf, 0, inplace=True)"
   ]
  },
  {
   "cell_type": "code",
   "execution_count": 7,
   "id": "474eac63",
   "metadata": {},
   "outputs": [
    {
     "data": {
      "text/plain": [
       "Series([], dtype: float64)"
      ]
     },
     "execution_count": 7,
     "metadata": {},
     "output_type": "execute_result"
    }
   ],
   "source": [
    "df_final_w_dummies.isin([np.inf, -np.inf, np.nan]).sum().where(lambda x: x > 0).dropna()"
   ]
  },
  {
   "cell_type": "code",
   "execution_count": 8,
   "id": "4f39479a",
   "metadata": {},
   "outputs": [
    {
     "data": {
      "text/plain": [
       "(86848, 4672)"
      ]
     },
     "execution_count": 8,
     "metadata": {},
     "output_type": "execute_result"
    }
   ],
   "source": [
    "df_final_w_dummies.shape"
   ]
  },
  {
   "cell_type": "markdown",
   "id": "c219b6cd",
   "metadata": {},
   "source": [
    "## Spliting datasets into train and test for AFL Fantasy, Supercoach, and tipping"
   ]
  },
  {
   "cell_type": "code",
   "execution_count": 9,
   "id": "caacc8f4",
   "metadata": {},
   "outputs": [],
   "source": [
    "train_df = df_final_w_dummies.loc[~ df_final_w_dummies['year'].isin([2020, 2021])]\n",
    "test_df = df_final_w_dummies.loc[df_final_w_dummies['year'].isin([2020, 2021])]"
   ]
  },
  {
   "cell_type": "code",
   "execution_count": 10,
   "id": "fe4ce711",
   "metadata": {},
   "outputs": [],
   "source": [
    "y_train_fantasy = train_df['AFL Fantasy Points']\n",
    "y_test_fantasy = test_df['AFL Fantasy Points']\n",
    "\n",
    "y_train_super = train_df['Supercoach Points']\n",
    "y_test_super = test_df['Supercoach Points']\n",
    "\n",
    "X_train = train_df.drop(['AFL Fantasy Points', 'Supercoach Points', 'Target Margin'], axis=1)\n",
    "X_test = test_df.drop(['AFL Fantasy Points', 'Supercoach Points', 'Target Margin'], axis=1)"
   ]
  },
  {
   "cell_type": "markdown",
   "id": "64541034",
   "metadata": {},
   "source": [
    "### Aggregating datasets for tipping"
   ]
  },
  {
   "cell_type": "code",
   "execution_count": 11,
   "id": "87d81bd0",
   "metadata": {},
   "outputs": [],
   "source": [
    "def create_tipping_df(df, cols=None):\n",
    "    df_mean = df.groupby(['year', 'round', 'homeTeam', 'team']).mean()\n",
    "    \n",
    "    df_std = df.groupby(['year', 'round', 'homeTeam', 'team']).std()\n",
    "    \n",
    "    if cols is None:\n",
    "        df_std = df_std.loc[:, (df_std != 0).any(axis=0)]\n",
    "    else:\n",
    "        df_std = df_std[cols]\n",
    "    \n",
    "    df_combined = df_mean.merge(df_std, on=['year', 'round', 'homeTeam', 'team'],\n",
    "                               suffixes=('_mean', '_std'))\n",
    "    \n",
    "    df_home = df_combined.query('homeTeam == team')\n",
    "    df_away = df_combined.query('homeTeam != team')\n",
    "    df_final = df_home.merge(df_away, on=['year', 'round', 'homeTeam'], \n",
    "                             suffixes=('_home', '_away'))\n",
    "    \n",
    "    df_final.rename(columns={'Target Margin_home': 'Target Margin'}, inplace=True)\n",
    "    df_final.drop('Target Margin_away', axis=1, inplace=True)\n",
    "    \n",
    "    return df_final, df_std.columns"
   ]
  },
  {
   "cell_type": "code",
   "execution_count": 12,
   "id": "045589e8",
   "metadata": {},
   "outputs": [],
   "source": [
    "train_tipping = train_df.copy()\n",
    "test_tipping = test_df.copy()\n",
    "\n",
    "for col in train_tipping.columns:\n",
    "    if 'AFL Fantasy Points' in col or 'Supercoach Points' in col:\n",
    "        train_tipping.drop(col, axis=1, inplace=True)\n",
    "        test_tipping.drop(col, axis=1, inplace=True)"
   ]
  },
  {
   "cell_type": "code",
   "execution_count": 13,
   "id": "8749020d",
   "metadata": {},
   "outputs": [],
   "source": [
    "train_tipping_final, cols = create_tipping_df(train_tipping)\n",
    "test_tipping_final, _ = create_tipping_df(test_tipping, cols)"
   ]
  },
  {
   "cell_type": "code",
   "execution_count": 14,
   "id": "5a315f01",
   "metadata": {},
   "outputs": [
    {
     "data": {
      "text/plain": [
       "(1655, 16431)"
      ]
     },
     "execution_count": 14,
     "metadata": {},
     "output_type": "execute_result"
    }
   ],
   "source": [
    "train_tipping_final.shape"
   ]
  },
  {
   "cell_type": "code",
   "execution_count": 15,
   "id": "8c3e7c4b",
   "metadata": {},
   "outputs": [],
   "source": [
    "y_train_tipping = train_tipping_final['Target Margin']\n",
    "y_test_tipping = test_tipping_final['Target Margin']\n",
    "\n",
    "X_train_tipping = train_tipping_final.drop('Target Margin', axis=1)\n",
    "X_test_tipping = test_tipping_final.drop('Target Margin', axis=1)"
   ]
  },
  {
   "cell_type": "markdown",
   "id": "6783cf1c",
   "metadata": {},
   "source": [
    "## Creating models"
   ]
  },
  {
   "cell_type": "code",
   "execution_count": 16,
   "id": "e320c353",
   "metadata": {},
   "outputs": [],
   "source": [
    "import xgboost as xgb\n",
    "from sklearn import metrics"
   ]
  },
  {
   "cell_type": "markdown",
   "id": "37488db4",
   "metadata": {},
   "source": [
    "### Fantasy Predictions"
   ]
  },
  {
   "cell_type": "code",
   "execution_count": 17,
   "id": "3ff71ec5",
   "metadata": {},
   "outputs": [],
   "source": [
    "rf_fantasy = xgb.XGBRegressor()"
   ]
  },
  {
   "cell_type": "code",
   "execution_count": 18,
   "id": "5458c470",
   "metadata": {},
   "outputs": [
    {
     "data": {
      "text/plain": [
       "XGBRegressor(base_score=0.5, booster='gbtree', callbacks=None,\n",
       "             colsample_bylevel=1, colsample_bynode=1, colsample_bytree=1,\n",
       "             early_stopping_rounds=None, enable_categorical=False,\n",
       "             eval_metric=None, gamma=0, gpu_id=-1, grow_policy='depthwise',\n",
       "             importance_type=None, interaction_constraints='',\n",
       "             learning_rate=0.300000012, max_bin=256, max_cat_to_onehot=4,\n",
       "             max_delta_step=0, max_depth=6, max_leaves=0, min_child_weight=1,\n",
       "             missing=nan, monotone_constraints='()', n_estimators=100, n_jobs=0,\n",
       "             num_parallel_tree=1, predictor='auto', random_state=0, reg_alpha=0,\n",
       "             reg_lambda=1, ...)"
      ]
     },
     "execution_count": 18,
     "metadata": {},
     "output_type": "execute_result"
    }
   ],
   "source": [
    "rf_fantasy.fit(X_train, y_train_fantasy)"
   ]
  },
  {
   "cell_type": "code",
   "execution_count": 19,
   "id": "c58daae5",
   "metadata": {},
   "outputs": [],
   "source": [
    "predict_X_train_fantasy = rf_fantasy.predict(X_train)"
   ]
  },
  {
   "cell_type": "code",
   "execution_count": 20,
   "id": "160bd295",
   "metadata": {},
   "outputs": [],
   "source": [
    "predict_X_test_fantasy = rf_fantasy.predict(X_test)"
   ]
  },
  {
   "cell_type": "code",
   "execution_count": 21,
   "id": "fdc506f7",
   "metadata": {},
   "outputs": [
    {
     "data": {
      "text/plain": [
       "13.09391518105097"
      ]
     },
     "execution_count": 21,
     "metadata": {},
     "output_type": "execute_result"
    }
   ],
   "source": [
    "metrics.mean_absolute_error(y_train_fantasy, predict_X_train_fantasy)"
   ]
  },
  {
   "cell_type": "code",
   "execution_count": 22,
   "id": "950d6006",
   "metadata": {},
   "outputs": [
    {
     "data": {
      "text/plain": [
       "17.740780678195563"
      ]
     },
     "execution_count": 22,
     "metadata": {},
     "output_type": "execute_result"
    }
   ],
   "source": [
    "metrics.mean_absolute_error(y_test_fantasy, predict_X_test_fantasy)"
   ]
  },
  {
   "cell_type": "code",
   "execution_count": 23,
   "id": "b6956cff",
   "metadata": {},
   "outputs": [
    {
     "data": {
      "text/plain": [
       "0.26246328533282837"
      ]
     },
     "execution_count": 23,
     "metadata": {},
     "output_type": "execute_result"
    }
   ],
   "source": [
    "metrics.r2_score(y_test_fantasy, predict_X_test_fantasy)"
   ]
  },
  {
   "cell_type": "markdown",
   "id": "c7f81b2d",
   "metadata": {},
   "source": [
    "### Supercoach Predictions"
   ]
  },
  {
   "cell_type": "code",
   "execution_count": 24,
   "id": "62782345",
   "metadata": {},
   "outputs": [],
   "source": [
    "rf_super = xgb.XGBRegressor()"
   ]
  },
  {
   "cell_type": "code",
   "execution_count": 25,
   "id": "5dcac190",
   "metadata": {},
   "outputs": [
    {
     "data": {
      "text/plain": [
       "XGBRegressor(base_score=0.5, booster='gbtree', callbacks=None,\n",
       "             colsample_bylevel=1, colsample_bynode=1, colsample_bytree=1,\n",
       "             early_stopping_rounds=None, enable_categorical=False,\n",
       "             eval_metric=None, gamma=0, gpu_id=-1, grow_policy='depthwise',\n",
       "             importance_type=None, interaction_constraints='',\n",
       "             learning_rate=0.300000012, max_bin=256, max_cat_to_onehot=4,\n",
       "             max_delta_step=0, max_depth=6, max_leaves=0, min_child_weight=1,\n",
       "             missing=nan, monotone_constraints='()', n_estimators=100, n_jobs=0,\n",
       "             num_parallel_tree=1, predictor='auto', random_state=0, reg_alpha=0,\n",
       "             reg_lambda=1, ...)"
      ]
     },
     "execution_count": 25,
     "metadata": {},
     "output_type": "execute_result"
    }
   ],
   "source": [
    "rf_super.fit(X_train, y_train_super)"
   ]
  },
  {
   "cell_type": "code",
   "execution_count": 26,
   "id": "72c1014b",
   "metadata": {},
   "outputs": [],
   "source": [
    "predict_X_train_super = rf_super.predict(X_train)"
   ]
  },
  {
   "cell_type": "code",
   "execution_count": 27,
   "id": "13465f40",
   "metadata": {},
   "outputs": [],
   "source": [
    "predict_X_test_super = rf_super.predict(X_test)"
   ]
  },
  {
   "cell_type": "code",
   "execution_count": 28,
   "id": "f4cf014b",
   "metadata": {},
   "outputs": [
    {
     "data": {
      "text/plain": [
       "19.39634601061774"
      ]
     },
     "execution_count": 28,
     "metadata": {},
     "output_type": "execute_result"
    }
   ],
   "source": [
    "metrics.mean_absolute_error(y_train_super, predict_X_train_super)"
   ]
  },
  {
   "cell_type": "code",
   "execution_count": 29,
   "id": "360112d7",
   "metadata": {},
   "outputs": [
    {
     "data": {
      "text/plain": [
       "26.547581375573838"
      ]
     },
     "execution_count": 29,
     "metadata": {},
     "output_type": "execute_result"
    }
   ],
   "source": [
    "metrics.mean_absolute_error(y_test_super, predict_X_test_super)"
   ]
  },
  {
   "cell_type": "code",
   "execution_count": 30,
   "id": "20a64833",
   "metadata": {},
   "outputs": [
    {
     "data": {
      "text/plain": [
       "0.37095723368508526"
      ]
     },
     "execution_count": 30,
     "metadata": {},
     "output_type": "execute_result"
    }
   ],
   "source": [
    "metrics.r2_score(y_test_super, predict_X_test_super)"
   ]
  },
  {
   "cell_type": "markdown",
   "id": "b1e02517",
   "metadata": {},
   "source": [
    "### Tipping Predictions"
   ]
  },
  {
   "cell_type": "code",
   "execution_count": 31,
   "id": "3c13143f",
   "metadata": {},
   "outputs": [],
   "source": [
    "from sklearn.linear_model import Ridge"
   ]
  },
  {
   "cell_type": "code",
   "execution_count": 32,
   "id": "11d759d2",
   "metadata": {},
   "outputs": [],
   "source": [
    "rf_tipping = Ridge()"
   ]
  },
  {
   "cell_type": "code",
   "execution_count": 33,
   "id": "8fd7a182",
   "metadata": {},
   "outputs": [
    {
     "data": {
      "text/plain": [
       "Ridge()"
      ]
     },
     "execution_count": 33,
     "metadata": {},
     "output_type": "execute_result"
    }
   ],
   "source": [
    "rf_tipping.fit(X_train_tipping, y_train_tipping)"
   ]
  },
  {
   "cell_type": "code",
   "execution_count": 34,
   "id": "a893e692",
   "metadata": {},
   "outputs": [],
   "source": [
    "predict_X_train_tipping = rf_tipping.predict(X_train_tipping)"
   ]
  },
  {
   "cell_type": "code",
   "execution_count": 35,
   "id": "1c30162c",
   "metadata": {},
   "outputs": [],
   "source": [
    "predict_X_test_tipping = rf_tipping.predict(X_test_tipping)"
   ]
  },
  {
   "cell_type": "code",
   "execution_count": 36,
   "id": "49bf577d",
   "metadata": {},
   "outputs": [
    {
     "data": {
      "text/plain": [
       "1.1635977011771375"
      ]
     },
     "execution_count": 36,
     "metadata": {},
     "output_type": "execute_result"
    }
   ],
   "source": [
    "metrics.mean_absolute_error(y_train_tipping, predict_X_train_tipping)"
   ]
  },
  {
   "cell_type": "code",
   "execution_count": 37,
   "id": "884b94ec",
   "metadata": {},
   "outputs": [
    {
     "data": {
      "text/plain": [
       "56.402871511413686"
      ]
     },
     "execution_count": 37,
     "metadata": {},
     "output_type": "execute_result"
    }
   ],
   "source": [
    "metrics.mean_absolute_error(y_test_tipping, predict_X_test_tipping)"
   ]
  },
  {
   "cell_type": "code",
   "execution_count": 38,
   "id": "d3d908c3",
   "metadata": {},
   "outputs": [
    {
     "data": {
      "text/plain": [
       "-3.0479645719008523"
      ]
     },
     "execution_count": 38,
     "metadata": {},
     "output_type": "execute_result"
    }
   ],
   "source": [
    "metrics.r2_score(y_test_tipping, predict_X_test_tipping)"
   ]
  },
  {
   "cell_type": "code",
   "execution_count": 39,
   "id": "0b361346",
   "metadata": {},
   "outputs": [
    {
     "data": {
      "text/plain": [
       "0.5338753387533876"
      ]
     },
     "execution_count": 39,
     "metadata": {},
     "output_type": "execute_result"
    }
   ],
   "source": [
    "correct = 0\n",
    "incorrect = 0\n",
    "\n",
    "for a, b in zip(y_test_tipping, predict_X_test_tipping):\n",
    "    if a>0 and b>0 or a<0 and b<0 or a==0 and b==0:\n",
    "        correct += 1\n",
    "    else:\n",
    "        incorrect += 1\n",
    "\n",
    "correct / (correct + incorrect)"
   ]
  },
  {
   "cell_type": "markdown",
   "id": "eaa87155",
   "metadata": {},
   "source": [
    "### Exporting Models"
   ]
  },
  {
   "cell_type": "code",
   "execution_count": 40,
   "id": "b74f9002",
   "metadata": {},
   "outputs": [],
   "source": [
    "import joblib"
   ]
  },
  {
   "cell_type": "code",
   "execution_count": 41,
   "id": "f1f6e36d",
   "metadata": {},
   "outputs": [],
   "source": [
    "joblib.dump(rf_fantasy, 'fantasy model.pkl', compress=9)\n",
    "joblib.dump(rf_super, 'supercoach model.pkl', compress=9)\n",
    "joblib.dump(rf_super, 'tipping model.pkl', compress=9);"
   ]
  }
 ],
 "metadata": {
  "kernelspec": {
   "display_name": "Python 3 (ipykernel)",
   "language": "python",
   "name": "python3"
  },
  "language_info": {
   "codemirror_mode": {
    "name": "ipython",
    "version": 3
   },
   "file_extension": ".py",
   "mimetype": "text/x-python",
   "name": "python",
   "nbconvert_exporter": "python",
   "pygments_lexer": "ipython3",
   "version": "3.8.13"
  }
 },
 "nbformat": 4,
 "nbformat_minor": 5
}
