{
 "cells": [
  {
   "cell_type": "markdown",
   "id": "0c279119",
   "metadata": {},
   "source": [
    "# AFL Fantasy and Tipping Machine Learning Models"
   ]
  },
  {
   "cell_type": "code",
   "execution_count": 1,
   "id": "6de9ef5a",
   "metadata": {},
   "outputs": [
    {
     "name": "stdout",
     "output_type": "stream",
     "text": [
      "1.4.2\n"
     ]
    }
   ],
   "source": [
    "import pandas as pd\n",
    "import numpy as np\n",
    "\n",
    "#Supresses scientific notation\n",
    "pd.set_option('display.float_format', lambda x: '%.2f' % x)\n",
    "\n",
    "import warnings\n",
    "warnings.filterwarnings('ignore')\n",
    "\n",
    "print(pd.__version__)"
   ]
  },
  {
   "cell_type": "markdown",
   "id": "c00922c3",
   "metadata": {},
   "source": [
    "## Importing Dataframe"
   ]
  },
  {
   "cell_type": "code",
   "execution_count": 2,
   "id": "bad699c0",
   "metadata": {},
   "outputs": [
    {
     "data": {
      "text/html": [
       "<div>\n",
       "<style scoped>\n",
       "    .dataframe tbody tr th:only-of-type {\n",
       "        vertical-align: middle;\n",
       "    }\n",
       "\n",
       "    .dataframe tbody tr th {\n",
       "        vertical-align: top;\n",
       "    }\n",
       "\n",
       "    .dataframe thead th {\n",
       "        text-align: right;\n",
       "    }\n",
       "</style>\n",
       "<table border=\"1\" class=\"dataframe\">\n",
       "  <thead>\n",
       "    <tr style=\"text-align: right;\">\n",
       "      <th></th>\n",
       "      <th>Supercoach Points</th>\n",
       "      <th>AFL Fantasy Points</th>\n",
       "      <th>year</th>\n",
       "      <th>round</th>\n",
       "      <th>height</th>\n",
       "      <th>Age</th>\n",
       "      <th>weight</th>\n",
       "      <th>team</th>\n",
       "      <th>gameNumber</th>\n",
       "      <th>venue</th>\n",
       "      <th>...</th>\n",
       "      <th>Opponent Team Score_prevous_year_mean_round_norm</th>\n",
       "      <th>Opponent Team Score_prevous_year_mean_game_norm</th>\n",
       "      <th>Margin_prevous_year_mean_round_norm</th>\n",
       "      <th>Margin_prevous_year_mean_game_norm</th>\n",
       "      <th>Total Points Scored_prevous_year_mean_round_norm</th>\n",
       "      <th>Total Points Scored_prevous_year_mean_game_norm</th>\n",
       "      <th>Game Result_prevous_year_mean_round_norm</th>\n",
       "      <th>Game Result_prevous_year_mean_game_norm</th>\n",
       "      <th>gameNumber_prevous_year_mean_round_norm</th>\n",
       "      <th>gameNumber_prevous_year_mean_game_norm</th>\n",
       "    </tr>\n",
       "  </thead>\n",
       "  <tbody>\n",
       "    <tr>\n",
       "      <th>0</th>\n",
       "      <td>62.00</td>\n",
       "      <td>50</td>\n",
       "      <td>2021</td>\n",
       "      <td>1</td>\n",
       "      <td>181</td>\n",
       "      <td>19.10</td>\n",
       "      <td>81</td>\n",
       "      <td>Adelaide</td>\n",
       "      <td>1</td>\n",
       "      <td>Adelaide Oval</td>\n",
       "      <td>...</td>\n",
       "      <td>NaN</td>\n",
       "      <td>NaN</td>\n",
       "      <td>NaN</td>\n",
       "      <td>NaN</td>\n",
       "      <td>NaN</td>\n",
       "      <td>NaN</td>\n",
       "      <td>NaN</td>\n",
       "      <td>NaN</td>\n",
       "      <td>NaN</td>\n",
       "      <td>NaN</td>\n",
       "    </tr>\n",
       "    <tr>\n",
       "      <th>1</th>\n",
       "      <td>24.00</td>\n",
       "      <td>21</td>\n",
       "      <td>2021</td>\n",
       "      <td>1</td>\n",
       "      <td>181</td>\n",
       "      <td>28.49</td>\n",
       "      <td>81</td>\n",
       "      <td>Adelaide</td>\n",
       "      <td>168</td>\n",
       "      <td>Adelaide Oval</td>\n",
       "      <td>...</td>\n",
       "      <td>NaN</td>\n",
       "      <td>NaN</td>\n",
       "      <td>NaN</td>\n",
       "      <td>NaN</td>\n",
       "      <td>NaN</td>\n",
       "      <td>NaN</td>\n",
       "      <td>NaN</td>\n",
       "      <td>NaN</td>\n",
       "      <td>NaN</td>\n",
       "      <td>NaN</td>\n",
       "    </tr>\n",
       "    <tr>\n",
       "      <th>2</th>\n",
       "      <td>50.00</td>\n",
       "      <td>35</td>\n",
       "      <td>2021</td>\n",
       "      <td>1</td>\n",
       "      <td>198</td>\n",
       "      <td>21.22</td>\n",
       "      <td>83</td>\n",
       "      <td>Adelaide</td>\n",
       "      <td>3</td>\n",
       "      <td>Adelaide Oval</td>\n",
       "      <td>...</td>\n",
       "      <td>NaN</td>\n",
       "      <td>NaN</td>\n",
       "      <td>NaN</td>\n",
       "      <td>NaN</td>\n",
       "      <td>NaN</td>\n",
       "      <td>NaN</td>\n",
       "      <td>NaN</td>\n",
       "      <td>NaN</td>\n",
       "      <td>NaN</td>\n",
       "      <td>NaN</td>\n",
       "    </tr>\n",
       "    <tr>\n",
       "      <th>3</th>\n",
       "      <td>90.00</td>\n",
       "      <td>65</td>\n",
       "      <td>2021</td>\n",
       "      <td>1</td>\n",
       "      <td>188</td>\n",
       "      <td>24.05</td>\n",
       "      <td>88</td>\n",
       "      <td>Adelaide</td>\n",
       "      <td>31</td>\n",
       "      <td>Adelaide Oval</td>\n",
       "      <td>...</td>\n",
       "      <td>NaN</td>\n",
       "      <td>NaN</td>\n",
       "      <td>NaN</td>\n",
       "      <td>NaN</td>\n",
       "      <td>NaN</td>\n",
       "      <td>NaN</td>\n",
       "      <td>NaN</td>\n",
       "      <td>NaN</td>\n",
       "      <td>NaN</td>\n",
       "      <td>NaN</td>\n",
       "    </tr>\n",
       "    <tr>\n",
       "      <th>4</th>\n",
       "      <td>147.00</td>\n",
       "      <td>83</td>\n",
       "      <td>2021</td>\n",
       "      <td>1</td>\n",
       "      <td>200</td>\n",
       "      <td>24.33</td>\n",
       "      <td>90</td>\n",
       "      <td>Adelaide</td>\n",
       "      <td>9</td>\n",
       "      <td>Adelaide Oval</td>\n",
       "      <td>...</td>\n",
       "      <td>NaN</td>\n",
       "      <td>NaN</td>\n",
       "      <td>NaN</td>\n",
       "      <td>NaN</td>\n",
       "      <td>NaN</td>\n",
       "      <td>NaN</td>\n",
       "      <td>NaN</td>\n",
       "      <td>NaN</td>\n",
       "      <td>NaN</td>\n",
       "      <td>NaN</td>\n",
       "    </tr>\n",
       "  </tbody>\n",
       "</table>\n",
       "<p>5 rows × 2058 columns</p>\n",
       "</div>"
      ],
      "text/plain": [
       "   Supercoach Points  AFL Fantasy Points  year  round  height   Age  weight  \\\n",
       "0              62.00                  50  2021      1     181 19.10      81   \n",
       "1              24.00                  21  2021      1     181 28.49      81   \n",
       "2              50.00                  35  2021      1     198 21.22      83   \n",
       "3              90.00                  65  2021      1     188 24.05      88   \n",
       "4             147.00                  83  2021      1     200 24.33      90   \n",
       "\n",
       "       team  gameNumber          venue  ...  \\\n",
       "0  Adelaide           1  Adelaide Oval  ...   \n",
       "1  Adelaide         168  Adelaide Oval  ...   \n",
       "2  Adelaide           3  Adelaide Oval  ...   \n",
       "3  Adelaide          31  Adelaide Oval  ...   \n",
       "4  Adelaide           9  Adelaide Oval  ...   \n",
       "\n",
       "   Opponent Team Score_prevous_year_mean_round_norm  \\\n",
       "0                                               NaN   \n",
       "1                                               NaN   \n",
       "2                                               NaN   \n",
       "3                                               NaN   \n",
       "4                                               NaN   \n",
       "\n",
       "   Opponent Team Score_prevous_year_mean_game_norm  \\\n",
       "0                                              NaN   \n",
       "1                                              NaN   \n",
       "2                                              NaN   \n",
       "3                                              NaN   \n",
       "4                                              NaN   \n",
       "\n",
       "   Margin_prevous_year_mean_round_norm Margin_prevous_year_mean_game_norm  \\\n",
       "0                                  NaN                                NaN   \n",
       "1                                  NaN                                NaN   \n",
       "2                                  NaN                                NaN   \n",
       "3                                  NaN                                NaN   \n",
       "4                                  NaN                                NaN   \n",
       "\n",
       "   Total Points Scored_prevous_year_mean_round_norm  \\\n",
       "0                                               NaN   \n",
       "1                                               NaN   \n",
       "2                                               NaN   \n",
       "3                                               NaN   \n",
       "4                                               NaN   \n",
       "\n",
       "   Total Points Scored_prevous_year_mean_game_norm  \\\n",
       "0                                              NaN   \n",
       "1                                              NaN   \n",
       "2                                              NaN   \n",
       "3                                              NaN   \n",
       "4                                              NaN   \n",
       "\n",
       "   Game Result_prevous_year_mean_round_norm  \\\n",
       "0                                       NaN   \n",
       "1                                       NaN   \n",
       "2                                       NaN   \n",
       "3                                       NaN   \n",
       "4                                       NaN   \n",
       "\n",
       "   Game Result_prevous_year_mean_game_norm  \\\n",
       "0                                      NaN   \n",
       "1                                      NaN   \n",
       "2                                      NaN   \n",
       "3                                      NaN   \n",
       "4                                      NaN   \n",
       "\n",
       "   gameNumber_prevous_year_mean_round_norm  \\\n",
       "0                                      NaN   \n",
       "1                                      NaN   \n",
       "2                                      NaN   \n",
       "3                                      NaN   \n",
       "4                                      NaN   \n",
       "\n",
       "   gameNumber_prevous_year_mean_game_norm  \n",
       "0                                     NaN  \n",
       "1                                     NaN  \n",
       "2                                     NaN  \n",
       "3                                     NaN  \n",
       "4                                     NaN  \n",
       "\n",
       "[5 rows x 2058 columns]"
      ]
     },
     "execution_count": 2,
     "metadata": {},
     "output_type": "execute_result"
    }
   ],
   "source": [
    "# Requires AFL_dataset.csv, which was created in the AFL_DataCleaning notebook\n",
    "df_final = pd.read_csv('AFL_dataset.csv',\n",
    "                       index_col=0,\n",
    "                       skipinitialspace=True,\n",
    "                       low_memory=False)\n",
    "\n",
    "df_final.head()"
   ]
  },
  {
   "cell_type": "markdown",
   "id": "f59d12d0",
   "metadata": {},
   "source": [
    "## Creating dummies columns and eliminating NaN and infinities"
   ]
  },
  {
   "cell_type": "code",
   "execution_count": 3,
   "id": "aa13eb02",
   "metadata": {},
   "outputs": [],
   "source": [
    "df_final_w_dummies = pd.get_dummies(df_final)"
   ]
  },
  {
   "cell_type": "code",
   "execution_count": 4,
   "id": "df8d70c7",
   "metadata": {},
   "outputs": [],
   "source": [
    "numerical_list = list(df_final_w_dummies.select_dtypes('number').columns)"
   ]
  },
  {
   "cell_type": "code",
   "execution_count": 5,
   "id": "594be0b4",
   "metadata": {},
   "outputs": [],
   "source": [
    "total_rows = df_final_w_dummies.shape[0]\n",
    "\n",
    "for col in numerical_list:\n",
    "    total_nans = df_final_w_dummies[col].isna().sum()\n",
    "    total_infs = df_final_w_dummies[col].isin([np.inf]).sum()\n",
    "    total_neg_infs = df_final_w_dummies[col].isin([-np.inf]).sum()\n",
    "    \n",
    "    if total_rows in [total_nans, total_infs, total_neg_infs]:\n",
    "        df_final_w_dummies.drop(col, axis=1, inplace=True)\n",
    "        continue\n",
    "    \n",
    "    if df_final_w_dummies[col].isna().sum() != 0:\n",
    "        df_final_w_dummies[f'{col}_nan'] = np.where(df_final_w_dummies[col].isna(), 1, 0)\n",
    "    if df_final_w_dummies[col].isin([np.inf]).sum() != 0:\n",
    "        df_final_w_dummies[f'{col}_inf'] = np.where(df_final_w_dummies[col].isin([np.inf]), 1, 0)\n",
    "    if df_final_w_dummies[col].isin([-np.inf]).sum() != 0:\n",
    "        df_final_w_dummies[f'{col}_neg_inf'] = np.where(df_final_w_dummies[col].isin([-np.inf]), 1, 0)\n",
    "        \n",
    "df_final_w_dummies.fillna(0, inplace=True)\n",
    "df_final_w_dummies.replace(np.inf, 0, inplace=True)\n",
    "df_final_w_dummies.replace(-np.inf, 0, inplace=True)"
   ]
  },
  {
   "cell_type": "code",
   "execution_count": 6,
   "id": "fde2e624",
   "metadata": {},
   "outputs": [
    {
     "data": {
      "text/plain": [
       "Series([], dtype: float64)"
      ]
     },
     "execution_count": 6,
     "metadata": {},
     "output_type": "execute_result"
    }
   ],
   "source": [
    "df_final_w_dummies.isin([np.inf, -np.inf, np.nan]).sum().where(lambda x: x > 0).dropna()"
   ]
  },
  {
   "cell_type": "markdown",
   "id": "9a8dfd0b",
   "metadata": {},
   "source": [
    "### Dropping rows where the player scored zero or fewer points"
   ]
  },
  {
   "cell_type": "code",
   "execution_count": 7,
   "id": "ddd50a28",
   "metadata": {},
   "outputs": [],
   "source": [
    "df_final_w_dummies = df_final_w_dummies.drop(df_final_w_dummies[(df_final_w_dummies['AFL Fantasy Points'] <=0) \n",
    "                                               | (df_final_w_dummies['Supercoach Points'] <=0)].index)"
   ]
  },
  {
   "cell_type": "code",
   "execution_count": 8,
   "id": "effe5204",
   "metadata": {},
   "outputs": [
    {
     "data": {
      "text/plain": [
       "(89174, 4408)"
      ]
     },
     "execution_count": 8,
     "metadata": {},
     "output_type": "execute_result"
    }
   ],
   "source": [
    "df_final_w_dummies.shape"
   ]
  },
  {
   "cell_type": "markdown",
   "id": "379eb5b7",
   "metadata": {},
   "source": [
    "## Spliting datasets into train and test for AFL Fantasy and Supercoach"
   ]
  },
  {
   "cell_type": "code",
   "execution_count": 9,
   "id": "de212f17",
   "metadata": {},
   "outputs": [],
   "source": [
    "train_df = df_final_w_dummies.loc[~ df_final_w_dummies['year'].isin([2020, 2021])]\n",
    "test_df = df_final_w_dummies.loc[df_final_w_dummies['year'].isin([2020, 2021])]"
   ]
  },
  {
   "cell_type": "code",
   "execution_count": 10,
   "id": "f668bc2e",
   "metadata": {},
   "outputs": [],
   "source": [
    "y_train_fantasy = train_df['AFL Fantasy Points']\n",
    "y_test_fantasy = test_df['AFL Fantasy Points']\n",
    "\n",
    "y_train_super = train_df['Supercoach Points']\n",
    "y_test_super = test_df['Supercoach Points']\n",
    "\n",
    "\n",
    "X_train = train_df.drop(['AFL Fantasy Points', 'Supercoach Points', 'Target Margin'], axis=1)\n",
    "X_test = test_df.drop(['AFL Fantasy Points', 'Supercoach Points', 'Target Margin'], axis=1)"
   ]
  },
  {
   "cell_type": "markdown",
   "id": "dd5e6c7e",
   "metadata": {},
   "source": [
    "## Creating models"
   ]
  },
  {
   "cell_type": "code",
   "execution_count": 11,
   "id": "b4f2fae9",
   "metadata": {},
   "outputs": [],
   "source": [
    "import xgboost as xgb\n",
    "from sklearn.model_selection import RandomizedSearchCV\n",
    "from sklearn import metrics"
   ]
  },
  {
   "cell_type": "code",
   "execution_count": 12,
   "id": "ed5b1f38",
   "metadata": {},
   "outputs": [],
   "source": [
    "hyperparameter_grid = {\n",
    "    'n_estimators': [100, 400, 800],\n",
    "    'max_depth': [3, 6, 9],\n",
    "    'learning_rate': [0.05, 0.1, 0.20],\n",
    "    'min_child_weight': [1, 10, 100]\n",
    "    }"
   ]
  },
  {
   "cell_type": "markdown",
   "id": "9af6fe94",
   "metadata": {},
   "source": [
    "### Fantasy Predictions"
   ]
  },
  {
   "cell_type": "code",
   "execution_count": 13,
   "id": "1719d545",
   "metadata": {},
   "outputs": [],
   "source": [
    "rf_fantasy = xgb.XGBRegressor()"
   ]
  },
  {
   "cell_type": "code",
   "execution_count": 14,
   "id": "778ccb84",
   "metadata": {},
   "outputs": [
    {
     "data": {
      "text/plain": [
       "XGBRegressor(base_score=0.5, booster='gbtree', callbacks=None,\n",
       "             colsample_bylevel=1, colsample_bynode=1, colsample_bytree=1,\n",
       "             early_stopping_rounds=None, enable_categorical=False,\n",
       "             eval_metric=None, gamma=0, gpu_id=-1, grow_policy='depthwise',\n",
       "             importance_type=None, interaction_constraints='',\n",
       "             learning_rate=0.300000012, max_bin=256, max_cat_to_onehot=4,\n",
       "             max_delta_step=0, max_depth=6, max_leaves=0, min_child_weight=1,\n",
       "             missing=nan, monotone_constraints='()', n_estimators=100, n_jobs=0,\n",
       "             num_parallel_tree=1, predictor='auto', random_state=0, reg_alpha=0,\n",
       "             reg_lambda=1, ...)"
      ]
     },
     "execution_count": 14,
     "metadata": {},
     "output_type": "execute_result"
    }
   ],
   "source": [
    "rf_fantasy.fit(X_train, y_train_fantasy)"
   ]
  },
  {
   "cell_type": "code",
   "execution_count": 15,
   "id": "1b573689",
   "metadata": {},
   "outputs": [],
   "source": [
    "predict_X_train_fantasy = rf_fantasy.predict(X_train)"
   ]
  },
  {
   "cell_type": "code",
   "execution_count": 16,
   "id": "13912800",
   "metadata": {},
   "outputs": [],
   "source": [
    "predict_X_test_fantasy = rf_fantasy.predict(X_test)"
   ]
  },
  {
   "cell_type": "code",
   "execution_count": 17,
   "id": "ccdf5044",
   "metadata": {},
   "outputs": [
    {
     "data": {
      "text/plain": [
       "13.613856849023406"
      ]
     },
     "execution_count": 17,
     "metadata": {},
     "output_type": "execute_result"
    }
   ],
   "source": [
    "metrics.mean_absolute_error(y_train_fantasy, predict_X_train_fantasy)"
   ]
  },
  {
   "cell_type": "code",
   "execution_count": 18,
   "id": "6c7b6390",
   "metadata": {},
   "outputs": [
    {
     "data": {
      "text/plain": [
       "18.326989929486402"
      ]
     },
     "execution_count": 18,
     "metadata": {},
     "output_type": "execute_result"
    }
   ],
   "source": [
    "metrics.mean_absolute_error(y_test_fantasy, predict_X_test_fantasy)"
   ]
  },
  {
   "cell_type": "code",
   "execution_count": 19,
   "id": "a12cd9c2",
   "metadata": {},
   "outputs": [
    {
     "data": {
      "text/plain": [
       "0.23049116487275223"
      ]
     },
     "execution_count": 19,
     "metadata": {},
     "output_type": "execute_result"
    }
   ],
   "source": [
    "metrics.r2_score(y_test_fantasy, predict_X_test_fantasy)"
   ]
  },
  {
   "cell_type": "markdown",
   "id": "726b00a1",
   "metadata": {},
   "source": [
    "### Supercoach Predictions"
   ]
  },
  {
   "cell_type": "code",
   "execution_count": 20,
   "id": "7bc4e2c6",
   "metadata": {},
   "outputs": [],
   "source": [
    "rf_super = xgb.XGBRegressor()"
   ]
  },
  {
   "cell_type": "code",
   "execution_count": 21,
   "id": "73eaa193",
   "metadata": {},
   "outputs": [
    {
     "data": {
      "text/plain": [
       "XGBRegressor(base_score=0.5, booster='gbtree', callbacks=None,\n",
       "             colsample_bylevel=1, colsample_bynode=1, colsample_bytree=1,\n",
       "             early_stopping_rounds=None, enable_categorical=False,\n",
       "             eval_metric=None, gamma=0, gpu_id=-1, grow_policy='depthwise',\n",
       "             importance_type=None, interaction_constraints='',\n",
       "             learning_rate=0.300000012, max_bin=256, max_cat_to_onehot=4,\n",
       "             max_delta_step=0, max_depth=6, max_leaves=0, min_child_weight=1,\n",
       "             missing=nan, monotone_constraints='()', n_estimators=100, n_jobs=0,\n",
       "             num_parallel_tree=1, predictor='auto', random_state=0, reg_alpha=0,\n",
       "             reg_lambda=1, ...)"
      ]
     },
     "execution_count": 21,
     "metadata": {},
     "output_type": "execute_result"
    }
   ],
   "source": [
    "rf_super.fit(X_train, y_train_super)"
   ]
  },
  {
   "cell_type": "code",
   "execution_count": 22,
   "id": "df832c13",
   "metadata": {},
   "outputs": [],
   "source": [
    "predict_X_train_super = rf_super.predict(X_train)"
   ]
  },
  {
   "cell_type": "code",
   "execution_count": 23,
   "id": "298e81d1",
   "metadata": {},
   "outputs": [],
   "source": [
    "predict_X_test_super = rf_super.predict(X_test)"
   ]
  },
  {
   "cell_type": "code",
   "execution_count": 24,
   "id": "db1cceb9",
   "metadata": {},
   "outputs": [
    {
     "data": {
      "text/plain": [
       "20.10976973156177"
      ]
     },
     "execution_count": 24,
     "metadata": {},
     "output_type": "execute_result"
    }
   ],
   "source": [
    "metrics.mean_absolute_error(y_train_super, predict_X_train_super)"
   ]
  },
  {
   "cell_type": "code",
   "execution_count": 25,
   "id": "1197e448",
   "metadata": {},
   "outputs": [
    {
     "data": {
      "text/plain": [
       "27.135256731839807"
      ]
     },
     "execution_count": 25,
     "metadata": {},
     "output_type": "execute_result"
    }
   ],
   "source": [
    "metrics.mean_absolute_error(y_test_super, predict_X_test_super)"
   ]
  },
  {
   "cell_type": "code",
   "execution_count": 26,
   "id": "e4064dd5",
   "metadata": {},
   "outputs": [
    {
     "data": {
      "text/plain": [
       "0.3511172078582838"
      ]
     },
     "execution_count": 26,
     "metadata": {},
     "output_type": "execute_result"
    }
   ],
   "source": [
    "metrics.r2_score(y_test_super, predict_X_test_super)"
   ]
  },
  {
   "cell_type": "markdown",
   "id": "d015230c",
   "metadata": {},
   "source": [
    "### Exporting Models"
   ]
  },
  {
   "cell_type": "code",
   "execution_count": null,
   "id": "e1702a46",
   "metadata": {},
   "outputs": [],
   "source": [
    "import joblib"
   ]
  },
  {
   "cell_type": "code",
   "execution_count": null,
   "id": "62801f5f",
   "metadata": {},
   "outputs": [],
   "source": [
    "joblib.dump(rf_fantasy, 'fantasy model.pkl', compress=9)\n",
    "joblib.dump(rf_super, 'supercoach model.pkl', compress=9);"
   ]
  }
 ],
 "metadata": {
  "kernelspec": {
   "display_name": "Python 3 (ipykernel)",
   "language": "python",
   "name": "python3"
  },
  "language_info": {
   "codemirror_mode": {
    "name": "ipython",
    "version": 3
   },
   "file_extension": ".py",
   "mimetype": "text/x-python",
   "name": "python",
   "nbconvert_exporter": "python",
   "pygments_lexer": "ipython3",
   "version": "3.8.13"
  }
 },
 "nbformat": 4,
 "nbformat_minor": 5
}
