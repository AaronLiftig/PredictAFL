{
 "cells": [
  {
   "cell_type": "markdown",
   "id": "3818279e",
   "metadata": {},
   "source": [
    "# AFL Fantasy and Tipping Machine Learning Models"
   ]
  },
  {
   "cell_type": "code",
   "execution_count": 1,
   "id": "d5f51c2c",
   "metadata": {},
   "outputs": [
    {
     "name": "stdout",
     "output_type": "stream",
     "text": [
      "1.4.2\n"
     ]
    }
   ],
   "source": [
    "import pandas as pd\n",
    "import numpy as np\n",
    "\n",
    "#Supresses scientific notation\n",
    "pd.set_option('display.float_format', lambda x: '%.2f' % x)\n",
    "\n",
    "import warnings\n",
    "warnings.filterwarnings('ignore')\n",
    "\n",
    "print(pd.__version__)"
   ]
  },
  {
   "cell_type": "markdown",
   "id": "11c97ec2",
   "metadata": {},
   "source": [
    "## Importing Dataframe"
   ]
  },
  {
   "cell_type": "code",
   "execution_count": 2,
   "id": "0e38794a",
   "metadata": {},
   "outputs": [
    {
     "data": {
      "text/html": [
       "<div>\n",
       "<style scoped>\n",
       "    .dataframe tbody tr th:only-of-type {\n",
       "        vertical-align: middle;\n",
       "    }\n",
       "\n",
       "    .dataframe tbody tr th {\n",
       "        vertical-align: top;\n",
       "    }\n",
       "\n",
       "    .dataframe thead th {\n",
       "        text-align: right;\n",
       "    }\n",
       "</style>\n",
       "<table border=\"1\" class=\"dataframe\">\n",
       "  <thead>\n",
       "    <tr style=\"text-align: right;\">\n",
       "      <th></th>\n",
       "      <th>year</th>\n",
       "      <th>round</th>\n",
       "      <th>Supercoach Points</th>\n",
       "      <th>AFL Fantasy Points</th>\n",
       "      <th>height</th>\n",
       "      <th>Age</th>\n",
       "      <th>weight</th>\n",
       "      <th>team</th>\n",
       "      <th>gameNumber</th>\n",
       "      <th>venue</th>\n",
       "      <th>...</th>\n",
       "      <th>Total Points Scored_prevous_year_mean_round_norm</th>\n",
       "      <th>Total Points Scored_prevous_year_mean_game_norm</th>\n",
       "      <th>Game Result_prevous_year_mean_round_norm</th>\n",
       "      <th>Game Result_prevous_year_mean_game_norm</th>\n",
       "      <th>gameNumber_prevous_year_mean_round_norm</th>\n",
       "      <th>gameNumber_prevous_year_mean_game_norm</th>\n",
       "      <th>AFL Fantasy Points_prevous_year_mean_round_norm</th>\n",
       "      <th>AFL Fantasy Points_prevous_year_mean_game_norm</th>\n",
       "      <th>Supercoach Points_prevous_year_mean_round_norm</th>\n",
       "      <th>Supercoach Points_prevous_year_mean_game_norm</th>\n",
       "    </tr>\n",
       "  </thead>\n",
       "  <tbody>\n",
       "    <tr>\n",
       "      <th>80362</th>\n",
       "      <td>2012</td>\n",
       "      <td>1</td>\n",
       "      <td>129.00</td>\n",
       "      <td>99</td>\n",
       "      <td>171</td>\n",
       "      <td>29.28</td>\n",
       "      <td>70</td>\n",
       "      <td>Adelaide</td>\n",
       "      <td>4</td>\n",
       "      <td>Carrara</td>\n",
       "      <td>...</td>\n",
       "      <td>NaN</td>\n",
       "      <td>NaN</td>\n",
       "      <td>NaN</td>\n",
       "      <td>NaN</td>\n",
       "      <td>NaN</td>\n",
       "      <td>NaN</td>\n",
       "      <td>NaN</td>\n",
       "      <td>NaN</td>\n",
       "      <td>NaN</td>\n",
       "      <td>NaN</td>\n",
       "    </tr>\n",
       "    <tr>\n",
       "      <th>80363</th>\n",
       "      <td>2012</td>\n",
       "      <td>1</td>\n",
       "      <td>108.00</td>\n",
       "      <td>89</td>\n",
       "      <td>189</td>\n",
       "      <td>21.99</td>\n",
       "      <td>92</td>\n",
       "      <td>Adelaide</td>\n",
       "      <td>65</td>\n",
       "      <td>Carrara</td>\n",
       "      <td>...</td>\n",
       "      <td>NaN</td>\n",
       "      <td>NaN</td>\n",
       "      <td>NaN</td>\n",
       "      <td>NaN</td>\n",
       "      <td>NaN</td>\n",
       "      <td>NaN</td>\n",
       "      <td>NaN</td>\n",
       "      <td>NaN</td>\n",
       "      <td>NaN</td>\n",
       "      <td>NaN</td>\n",
       "    </tr>\n",
       "    <tr>\n",
       "      <th>80364</th>\n",
       "      <td>2012</td>\n",
       "      <td>1</td>\n",
       "      <td>82.00</td>\n",
       "      <td>65</td>\n",
       "      <td>177</td>\n",
       "      <td>32.66</td>\n",
       "      <td>81</td>\n",
       "      <td>Adelaide</td>\n",
       "      <td>208</td>\n",
       "      <td>Carrara</td>\n",
       "      <td>...</td>\n",
       "      <td>NaN</td>\n",
       "      <td>NaN</td>\n",
       "      <td>NaN</td>\n",
       "      <td>NaN</td>\n",
       "      <td>NaN</td>\n",
       "      <td>NaN</td>\n",
       "      <td>NaN</td>\n",
       "      <td>NaN</td>\n",
       "      <td>NaN</td>\n",
       "      <td>NaN</td>\n",
       "    </tr>\n",
       "    <tr>\n",
       "      <th>80365</th>\n",
       "      <td>2012</td>\n",
       "      <td>1</td>\n",
       "      <td>146.00</td>\n",
       "      <td>109</td>\n",
       "      <td>181</td>\n",
       "      <td>25.15</td>\n",
       "      <td>79</td>\n",
       "      <td>Adelaide</td>\n",
       "      <td>96</td>\n",
       "      <td>Carrara</td>\n",
       "      <td>...</td>\n",
       "      <td>NaN</td>\n",
       "      <td>NaN</td>\n",
       "      <td>NaN</td>\n",
       "      <td>NaN</td>\n",
       "      <td>NaN</td>\n",
       "      <td>NaN</td>\n",
       "      <td>NaN</td>\n",
       "      <td>NaN</td>\n",
       "      <td>NaN</td>\n",
       "      <td>NaN</td>\n",
       "    </tr>\n",
       "    <tr>\n",
       "      <th>80366</th>\n",
       "      <td>2012</td>\n",
       "      <td>1</td>\n",
       "      <td>34.00</td>\n",
       "      <td>28</td>\n",
       "      <td>188</td>\n",
       "      <td>23.55</td>\n",
       "      <td>89</td>\n",
       "      <td>Adelaide</td>\n",
       "      <td>31</td>\n",
       "      <td>Carrara</td>\n",
       "      <td>...</td>\n",
       "      <td>NaN</td>\n",
       "      <td>NaN</td>\n",
       "      <td>NaN</td>\n",
       "      <td>NaN</td>\n",
       "      <td>NaN</td>\n",
       "      <td>NaN</td>\n",
       "      <td>NaN</td>\n",
       "      <td>NaN</td>\n",
       "      <td>NaN</td>\n",
       "      <td>NaN</td>\n",
       "    </tr>\n",
       "  </tbody>\n",
       "</table>\n",
       "<p>5 rows × 2206 columns</p>\n",
       "</div>"
      ],
      "text/plain": [
       "       year  round  Supercoach Points  AFL Fantasy Points  height   Age  \\\n",
       "80362  2012      1             129.00                  99     171 29.28   \n",
       "80363  2012      1             108.00                  89     189 21.99   \n",
       "80364  2012      1              82.00                  65     177 32.66   \n",
       "80365  2012      1             146.00                 109     181 25.15   \n",
       "80366  2012      1              34.00                  28     188 23.55   \n",
       "\n",
       "       weight      team  gameNumber    venue  ...  \\\n",
       "80362      70  Adelaide           4  Carrara  ...   \n",
       "80363      92  Adelaide          65  Carrara  ...   \n",
       "80364      81  Adelaide         208  Carrara  ...   \n",
       "80365      79  Adelaide          96  Carrara  ...   \n",
       "80366      89  Adelaide          31  Carrara  ...   \n",
       "\n",
       "      Total Points Scored_prevous_year_mean_round_norm  \\\n",
       "80362                                              NaN   \n",
       "80363                                              NaN   \n",
       "80364                                              NaN   \n",
       "80365                                              NaN   \n",
       "80366                                              NaN   \n",
       "\n",
       "       Total Points Scored_prevous_year_mean_game_norm  \\\n",
       "80362                                              NaN   \n",
       "80363                                              NaN   \n",
       "80364                                              NaN   \n",
       "80365                                              NaN   \n",
       "80366                                              NaN   \n",
       "\n",
       "       Game Result_prevous_year_mean_round_norm  \\\n",
       "80362                                       NaN   \n",
       "80363                                       NaN   \n",
       "80364                                       NaN   \n",
       "80365                                       NaN   \n",
       "80366                                       NaN   \n",
       "\n",
       "       Game Result_prevous_year_mean_game_norm  \\\n",
       "80362                                      NaN   \n",
       "80363                                      NaN   \n",
       "80364                                      NaN   \n",
       "80365                                      NaN   \n",
       "80366                                      NaN   \n",
       "\n",
       "      gameNumber_prevous_year_mean_round_norm  \\\n",
       "80362                                     NaN   \n",
       "80363                                     NaN   \n",
       "80364                                     NaN   \n",
       "80365                                     NaN   \n",
       "80366                                     NaN   \n",
       "\n",
       "       gameNumber_prevous_year_mean_game_norm  \\\n",
       "80362                                     NaN   \n",
       "80363                                     NaN   \n",
       "80364                                     NaN   \n",
       "80365                                     NaN   \n",
       "80366                                     NaN   \n",
       "\n",
       "       AFL Fantasy Points_prevous_year_mean_round_norm  \\\n",
       "80362                                              NaN   \n",
       "80363                                              NaN   \n",
       "80364                                              NaN   \n",
       "80365                                              NaN   \n",
       "80366                                              NaN   \n",
       "\n",
       "       AFL Fantasy Points_prevous_year_mean_game_norm  \\\n",
       "80362                                             NaN   \n",
       "80363                                             NaN   \n",
       "80364                                             NaN   \n",
       "80365                                             NaN   \n",
       "80366                                             NaN   \n",
       "\n",
       "       Supercoach Points_prevous_year_mean_round_norm  \\\n",
       "80362                                             NaN   \n",
       "80363                                             NaN   \n",
       "80364                                             NaN   \n",
       "80365                                             NaN   \n",
       "80366                                             NaN   \n",
       "\n",
       "       Supercoach Points_prevous_year_mean_game_norm  \n",
       "80362                                            NaN  \n",
       "80363                                            NaN  \n",
       "80364                                            NaN  \n",
       "80365                                            NaN  \n",
       "80366                                            NaN  \n",
       "\n",
       "[5 rows x 2206 columns]"
      ]
     },
     "execution_count": 2,
     "metadata": {},
     "output_type": "execute_result"
    }
   ],
   "source": [
    "# Requires AFL_dataset.csv, which was created in the AFL_DataCleaning notebook\n",
    "df_final = pd.read_csv('AFL_dataset.csv', index_col=0, skipinitialspace=True, low_memory=False)\n",
    "\n",
    "df_final.head()"
   ]
  },
  {
   "cell_type": "code",
   "execution_count": 3,
   "id": "96e4dc02",
   "metadata": {},
   "outputs": [],
   "source": [
    "df_final.set_index('homeTeam', append=True, inplace=True)\n",
    "df_final.set_index('team', drop=False, append=True, inplace=True)"
   ]
  },
  {
   "cell_type": "markdown",
   "id": "8218c2d9",
   "metadata": {},
   "source": [
    "## Creating dummies columns and eliminating NaN and infinities"
   ]
  },
  {
   "cell_type": "code",
   "execution_count": 4,
   "id": "29e51e4d",
   "metadata": {},
   "outputs": [],
   "source": [
    "df_final_w_dummies = pd.get_dummies(df_final)"
   ]
  },
  {
   "cell_type": "code",
   "execution_count": 5,
   "id": "3f68c1f2",
   "metadata": {},
   "outputs": [],
   "source": [
    "numerical_list = list(df_final_w_dummies.select_dtypes('number').columns)"
   ]
  },
  {
   "cell_type": "code",
   "execution_count": 6,
   "id": "a7777e0e",
   "metadata": {},
   "outputs": [],
   "source": [
    "total_rows = df_final_w_dummies.shape[0]\n",
    "\n",
    "for col in numerical_list:\n",
    "    total_nans = df_final_w_dummies[col].isna().sum()\n",
    "    total_infs = df_final_w_dummies[col].isin([np.inf]).sum()\n",
    "    total_neg_infs = df_final_w_dummies[col].isin([-np.inf]).sum()\n",
    "    \n",
    "    if total_rows in [total_nans, total_infs, total_neg_infs]:\n",
    "        df_final_w_dummies.drop(col, axis=1, inplace=True)\n",
    "        continue\n",
    "    \n",
    "    if df_final_w_dummies[col].isna().sum() != 0:\n",
    "        df_final_w_dummies[f'{col}_nan'] = np.where(df_final_w_dummies[col].isna(), 1, 0)\n",
    "    if df_final_w_dummies[col].isin([np.inf]).sum() != 0:\n",
    "        df_final_w_dummies[f'{col}_inf'] = np.where(df_final_w_dummies[col].isin([np.inf]), 1, 0)\n",
    "    if df_final_w_dummies[col].isin([-np.inf]).sum() != 0:\n",
    "        df_final_w_dummies[f'{col}_neg_inf'] = np.where(df_final_w_dummies[col].isin([-np.inf]), 1, 0)\n",
    "        \n",
    "df_final_w_dummies.fillna(0, inplace=True)\n",
    "df_final_w_dummies.replace(np.inf, 0, inplace=True)\n",
    "df_final_w_dummies.replace(-np.inf, 0, inplace=True)"
   ]
  },
  {
   "cell_type": "code",
   "execution_count": 7,
   "id": "68e467ac",
   "metadata": {},
   "outputs": [
    {
     "data": {
      "text/plain": [
       "Series([], dtype: float64)"
      ]
     },
     "execution_count": 7,
     "metadata": {},
     "output_type": "execute_result"
    }
   ],
   "source": [
    "df_final_w_dummies.isin([np.inf, -np.inf, np.nan]).sum().where(lambda x: x > 0).dropna()"
   ]
  },
  {
   "cell_type": "code",
   "execution_count": 8,
   "id": "36483519",
   "metadata": {},
   "outputs": [
    {
     "data": {
      "text/plain": [
       "(72864, 4702)"
      ]
     },
     "execution_count": 8,
     "metadata": {},
     "output_type": "execute_result"
    }
   ],
   "source": [
    "df_final_w_dummies.shape"
   ]
  },
  {
   "cell_type": "markdown",
   "id": "f559ca7a",
   "metadata": {},
   "source": [
    "## Spliting datasets into train and test for AFL Fantasy, Supercoach, and tipping"
   ]
  },
  {
   "cell_type": "code",
   "execution_count": 9,
   "id": "672e5fda",
   "metadata": {},
   "outputs": [],
   "source": [
    "train_df = df_final_w_dummies.loc[~ df_final_w_dummies['year'].isin([2020, 2021])]\n",
    "test_df = df_final_w_dummies.loc[df_final_w_dummies['year'].isin([2020, 2021])]"
   ]
  },
  {
   "cell_type": "code",
   "execution_count": 10,
   "id": "1682b911",
   "metadata": {},
   "outputs": [],
   "source": [
    "y_train_fantasy = train_df['AFL Fantasy Points']\n",
    "y_test_fantasy = test_df['AFL Fantasy Points']\n",
    "\n",
    "y_train_super = train_df['Supercoach Points']\n",
    "y_test_super = test_df['Supercoach Points']\n",
    "\n",
    "X_train = train_df.drop(['AFL Fantasy Points', 'Supercoach Points', 'Target Margin'], axis=1)\n",
    "X_test = test_df.drop(['AFL Fantasy Points', 'Supercoach Points', 'Target Margin'], axis=1)"
   ]
  },
  {
   "cell_type": "markdown",
   "id": "4cded7af",
   "metadata": {},
   "source": [
    "### Aggregating datasets for tipping"
   ]
  },
  {
   "cell_type": "code",
   "execution_count": 11,
   "id": "07b12188",
   "metadata": {},
   "outputs": [],
   "source": [
    "def create_tipping_df(df, cols=None):\n",
    "    df_mean = df.groupby(['year', 'round', 'homeTeam', 'team']).mean()\n",
    "    \n",
    "    df_std = df.groupby(['year', 'round', 'homeTeam', 'team']).std()\n",
    "    \n",
    "    if cols is None:\n",
    "        df_std = df_std.loc[:, (df_std != 0).any(axis=0)]\n",
    "    else:\n",
    "        df_std = df_std[cols]\n",
    "    \n",
    "    df_combined = df_mean.merge(df_std, on=['year', 'round', 'homeTeam', 'team'],\n",
    "                               suffixes=('_mean', '_std'))\n",
    "    \n",
    "    df_home = df_combined.query('homeTeam == team').reset_index('team', drop=True)\n",
    "    df_away = df_combined.query('homeTeam != team').reset_index('team', drop=True)\n",
    "    \n",
    "    target_margin = df_home['Target Margin']\n",
    "    \n",
    "    df_final = df_home.subtract(df_away)\n",
    "    \n",
    "    df_final['Target Margin'] = target_margin\n",
    "    \n",
    "    return df_final, df_std.columns"
   ]
  },
  {
   "cell_type": "code",
   "execution_count": 12,
   "id": "f464db7f",
   "metadata": {},
   "outputs": [],
   "source": [
    "train_tipping = train_df.copy()\n",
    "test_tipping = test_df.copy()\n",
    "\n",
    "for col in train_tipping.columns:\n",
    "    if 'AFL Fantasy Points' in col or 'Supercoach Points' in col:\n",
    "        train_tipping.drop(col, axis=1, inplace=True)\n",
    "        test_tipping.drop(col, axis=1, inplace=True)"
   ]
  },
  {
   "cell_type": "code",
   "execution_count": 13,
   "id": "61c6d097",
   "metadata": {},
   "outputs": [],
   "source": [
    "train_tipping_final, cols = create_tipping_df(train_tipping)\n",
    "test_tipping_final, _ = create_tipping_df(test_tipping, cols)"
   ]
  },
  {
   "cell_type": "code",
   "execution_count": 14,
   "id": "7db6fdd4",
   "metadata": {},
   "outputs": [
    {
     "data": {
      "text/plain": [
       "(1655, 7745)"
      ]
     },
     "execution_count": 14,
     "metadata": {},
     "output_type": "execute_result"
    }
   ],
   "source": [
    "train_tipping_final.shape"
   ]
  },
  {
   "cell_type": "code",
   "execution_count": 15,
   "id": "f7403626",
   "metadata": {},
   "outputs": [
    {
     "data": {
      "text/html": [
       "<div>\n",
       "<style scoped>\n",
       "    .dataframe tbody tr th:only-of-type {\n",
       "        vertical-align: middle;\n",
       "    }\n",
       "\n",
       "    .dataframe tbody tr th {\n",
       "        vertical-align: top;\n",
       "    }\n",
       "\n",
       "    .dataframe thead th {\n",
       "        text-align: right;\n",
       "    }\n",
       "</style>\n",
       "<table border=\"1\" class=\"dataframe\">\n",
       "  <thead>\n",
       "    <tr style=\"text-align: right;\">\n",
       "      <th></th>\n",
       "      <th></th>\n",
       "      <th></th>\n",
       "      <th>height_mean</th>\n",
       "      <th>Age_mean</th>\n",
       "      <th>weight_mean</th>\n",
       "      <th>gameNumber_mean</th>\n",
       "      <th>Start Time Hour</th>\n",
       "      <th>Start Time Minute</th>\n",
       "      <th>Is Home Team</th>\n",
       "      <th>Month</th>\n",
       "      <th>Day of Year</th>\n",
       "      <th>Weekday</th>\n",
       "      <th>...</th>\n",
       "      <th>Opponent Team Score_prevous_year_mean_round_norm_nan_std</th>\n",
       "      <th>Opponent Team Score_prevous_year_mean_game_norm_nan_std</th>\n",
       "      <th>Margin_prevous_year_mean_round_norm_nan_std</th>\n",
       "      <th>Margin_prevous_year_mean_game_norm_nan_std</th>\n",
       "      <th>Total Points Scored_prevous_year_mean_round_norm_nan_std</th>\n",
       "      <th>Total Points Scored_prevous_year_mean_game_norm_nan_std</th>\n",
       "      <th>Game Result_prevous_year_mean_round_norm_nan_std</th>\n",
       "      <th>Game Result_prevous_year_mean_game_norm_nan_std</th>\n",
       "      <th>gameNumber_prevous_year_mean_round_norm_nan_std</th>\n",
       "      <th>gameNumber_prevous_year_mean_game_norm_nan_std</th>\n",
       "    </tr>\n",
       "    <tr>\n",
       "      <th>year</th>\n",
       "      <th>round</th>\n",
       "      <th>homeTeam</th>\n",
       "      <th></th>\n",
       "      <th></th>\n",
       "      <th></th>\n",
       "      <th></th>\n",
       "      <th></th>\n",
       "      <th></th>\n",
       "      <th></th>\n",
       "      <th></th>\n",
       "      <th></th>\n",
       "      <th></th>\n",
       "      <th></th>\n",
       "      <th></th>\n",
       "      <th></th>\n",
       "      <th></th>\n",
       "      <th></th>\n",
       "      <th></th>\n",
       "      <th></th>\n",
       "      <th></th>\n",
       "      <th></th>\n",
       "      <th></th>\n",
       "      <th></th>\n",
       "    </tr>\n",
       "  </thead>\n",
       "  <tbody>\n",
       "    <tr>\n",
       "      <th rowspan=\"5\" valign=\"top\">2012</th>\n",
       "      <th rowspan=\"5\" valign=\"top\">1</th>\n",
       "      <th>Fremantle</th>\n",
       "      <td>2.00</td>\n",
       "      <td>-0.52</td>\n",
       "      <td>0.89</td>\n",
       "      <td>-27.94</td>\n",
       "      <td>0.00</td>\n",
       "      <td>0.00</td>\n",
       "      <td>1.00</td>\n",
       "      <td>0.00</td>\n",
       "      <td>0.00</td>\n",
       "      <td>0.00</td>\n",
       "      <td>...</td>\n",
       "      <td>0.00</td>\n",
       "      <td>0.00</td>\n",
       "      <td>0.00</td>\n",
       "      <td>0.00</td>\n",
       "      <td>0.00</td>\n",
       "      <td>0.00</td>\n",
       "      <td>0.00</td>\n",
       "      <td>0.00</td>\n",
       "      <td>0.00</td>\n",
       "      <td>0.00</td>\n",
       "    </tr>\n",
       "    <tr>\n",
       "      <th>Gold Coast</th>\n",
       "      <td>2.22</td>\n",
       "      <td>-2.55</td>\n",
       "      <td>0.61</td>\n",
       "      <td>-31.00</td>\n",
       "      <td>0.00</td>\n",
       "      <td>0.00</td>\n",
       "      <td>1.00</td>\n",
       "      <td>0.00</td>\n",
       "      <td>0.00</td>\n",
       "      <td>0.00</td>\n",
       "      <td>...</td>\n",
       "      <td>0.00</td>\n",
       "      <td>0.00</td>\n",
       "      <td>0.00</td>\n",
       "      <td>0.00</td>\n",
       "      <td>0.00</td>\n",
       "      <td>0.00</td>\n",
       "      <td>0.00</td>\n",
       "      <td>0.00</td>\n",
       "      <td>0.00</td>\n",
       "      <td>0.00</td>\n",
       "    </tr>\n",
       "    <tr>\n",
       "      <th>Greater Western Sydney</th>\n",
       "      <td>1.67</td>\n",
       "      <td>-2.92</td>\n",
       "      <td>0.39</td>\n",
       "      <td>-62.39</td>\n",
       "      <td>0.00</td>\n",
       "      <td>0.00</td>\n",
       "      <td>1.00</td>\n",
       "      <td>0.00</td>\n",
       "      <td>0.00</td>\n",
       "      <td>0.00</td>\n",
       "      <td>...</td>\n",
       "      <td>0.00</td>\n",
       "      <td>0.00</td>\n",
       "      <td>0.00</td>\n",
       "      <td>0.00</td>\n",
       "      <td>0.00</td>\n",
       "      <td>0.00</td>\n",
       "      <td>0.00</td>\n",
       "      <td>0.00</td>\n",
       "      <td>0.00</td>\n",
       "      <td>0.00</td>\n",
       "    </tr>\n",
       "    <tr>\n",
       "      <th>Hawthorn</th>\n",
       "      <td>-0.44</td>\n",
       "      <td>2.37</td>\n",
       "      <td>-2.11</td>\n",
       "      <td>35.89</td>\n",
       "      <td>0.00</td>\n",
       "      <td>0.00</td>\n",
       "      <td>1.00</td>\n",
       "      <td>0.00</td>\n",
       "      <td>0.00</td>\n",
       "      <td>0.00</td>\n",
       "      <td>...</td>\n",
       "      <td>0.00</td>\n",
       "      <td>0.00</td>\n",
       "      <td>0.00</td>\n",
       "      <td>0.00</td>\n",
       "      <td>0.00</td>\n",
       "      <td>0.00</td>\n",
       "      <td>0.00</td>\n",
       "      <td>0.00</td>\n",
       "      <td>0.00</td>\n",
       "      <td>0.00</td>\n",
       "    </tr>\n",
       "    <tr>\n",
       "      <th>Melbourne</th>\n",
       "      <td>-1.28</td>\n",
       "      <td>0.42</td>\n",
       "      <td>-1.22</td>\n",
       "      <td>1.33</td>\n",
       "      <td>0.00</td>\n",
       "      <td>0.00</td>\n",
       "      <td>1.00</td>\n",
       "      <td>0.00</td>\n",
       "      <td>0.00</td>\n",
       "      <td>0.00</td>\n",
       "      <td>...</td>\n",
       "      <td>0.00</td>\n",
       "      <td>0.00</td>\n",
       "      <td>0.00</td>\n",
       "      <td>0.00</td>\n",
       "      <td>0.00</td>\n",
       "      <td>0.00</td>\n",
       "      <td>0.00</td>\n",
       "      <td>0.00</td>\n",
       "      <td>0.00</td>\n",
       "      <td>0.00</td>\n",
       "    </tr>\n",
       "    <tr>\n",
       "      <th>...</th>\n",
       "      <th>...</th>\n",
       "      <th>...</th>\n",
       "      <td>...</td>\n",
       "      <td>...</td>\n",
       "      <td>...</td>\n",
       "      <td>...</td>\n",
       "      <td>...</td>\n",
       "      <td>...</td>\n",
       "      <td>...</td>\n",
       "      <td>...</td>\n",
       "      <td>...</td>\n",
       "      <td>...</td>\n",
       "      <td>...</td>\n",
       "      <td>...</td>\n",
       "      <td>...</td>\n",
       "      <td>...</td>\n",
       "      <td>...</td>\n",
       "      <td>...</td>\n",
       "      <td>...</td>\n",
       "      <td>...</td>\n",
       "      <td>...</td>\n",
       "      <td>...</td>\n",
       "      <td>...</td>\n",
       "    </tr>\n",
       "    <tr>\n",
       "      <th rowspan=\"5\" valign=\"top\">2019</th>\n",
       "      <th rowspan=\"2\" valign=\"top\">25</th>\n",
       "      <th>Brisbane Lions</th>\n",
       "      <td>-0.44</td>\n",
       "      <td>-0.88</td>\n",
       "      <td>0.72</td>\n",
       "      <td>-7.06</td>\n",
       "      <td>0.00</td>\n",
       "      <td>0.00</td>\n",
       "      <td>1.00</td>\n",
       "      <td>0.00</td>\n",
       "      <td>0.00</td>\n",
       "      <td>0.00</td>\n",
       "      <td>...</td>\n",
       "      <td>0.00</td>\n",
       "      <td>0.00</td>\n",
       "      <td>0.00</td>\n",
       "      <td>0.00</td>\n",
       "      <td>0.00</td>\n",
       "      <td>0.00</td>\n",
       "      <td>0.00</td>\n",
       "      <td>0.00</td>\n",
       "      <td>0.00</td>\n",
       "      <td>0.00</td>\n",
       "    </tr>\n",
       "    <tr>\n",
       "      <th>Geelong</th>\n",
       "      <td>0.94</td>\n",
       "      <td>-1.15</td>\n",
       "      <td>2.33</td>\n",
       "      <td>-25.39</td>\n",
       "      <td>0.00</td>\n",
       "      <td>0.00</td>\n",
       "      <td>1.00</td>\n",
       "      <td>0.00</td>\n",
       "      <td>0.00</td>\n",
       "      <td>0.00</td>\n",
       "      <td>...</td>\n",
       "      <td>0.32</td>\n",
       "      <td>0.32</td>\n",
       "      <td>0.32</td>\n",
       "      <td>0.32</td>\n",
       "      <td>0.32</td>\n",
       "      <td>0.32</td>\n",
       "      <td>0.32</td>\n",
       "      <td>0.32</td>\n",
       "      <td>0.32</td>\n",
       "      <td>0.32</td>\n",
       "    </tr>\n",
       "    <tr>\n",
       "      <th rowspan=\"2\" valign=\"top\">26</th>\n",
       "      <th>Collingwood</th>\n",
       "      <td>-0.67</td>\n",
       "      <td>0.33</td>\n",
       "      <td>-1.50</td>\n",
       "      <td>14.67</td>\n",
       "      <td>0.00</td>\n",
       "      <td>0.00</td>\n",
       "      <td>1.00</td>\n",
       "      <td>0.00</td>\n",
       "      <td>0.00</td>\n",
       "      <td>0.00</td>\n",
       "      <td>...</td>\n",
       "      <td>0.00</td>\n",
       "      <td>0.00</td>\n",
       "      <td>0.00</td>\n",
       "      <td>0.00</td>\n",
       "      <td>0.00</td>\n",
       "      <td>0.00</td>\n",
       "      <td>0.00</td>\n",
       "      <td>0.00</td>\n",
       "      <td>0.00</td>\n",
       "      <td>0.00</td>\n",
       "    </tr>\n",
       "    <tr>\n",
       "      <th>Richmond</th>\n",
       "      <td>-3.61</td>\n",
       "      <td>-0.16</td>\n",
       "      <td>-4.17</td>\n",
       "      <td>0.44</td>\n",
       "      <td>0.00</td>\n",
       "      <td>0.00</td>\n",
       "      <td>1.00</td>\n",
       "      <td>0.00</td>\n",
       "      <td>0.00</td>\n",
       "      <td>0.00</td>\n",
       "      <td>...</td>\n",
       "      <td>-0.32</td>\n",
       "      <td>-0.32</td>\n",
       "      <td>-0.32</td>\n",
       "      <td>-0.32</td>\n",
       "      <td>-0.32</td>\n",
       "      <td>-0.32</td>\n",
       "      <td>-0.32</td>\n",
       "      <td>-0.32</td>\n",
       "      <td>-0.32</td>\n",
       "      <td>-0.32</td>\n",
       "    </tr>\n",
       "    <tr>\n",
       "      <th>27</th>\n",
       "      <th>Richmond</th>\n",
       "      <td>-4.94</td>\n",
       "      <td>0.31</td>\n",
       "      <td>-4.11</td>\n",
       "      <td>15.56</td>\n",
       "      <td>0.00</td>\n",
       "      <td>0.00</td>\n",
       "      <td>1.00</td>\n",
       "      <td>0.00</td>\n",
       "      <td>0.00</td>\n",
       "      <td>0.00</td>\n",
       "      <td>...</td>\n",
       "      <td>-0.24</td>\n",
       "      <td>-0.24</td>\n",
       "      <td>-0.24</td>\n",
       "      <td>-0.24</td>\n",
       "      <td>-0.24</td>\n",
       "      <td>-0.24</td>\n",
       "      <td>-0.24</td>\n",
       "      <td>-0.24</td>\n",
       "      <td>-0.24</td>\n",
       "      <td>-0.24</td>\n",
       "    </tr>\n",
       "  </tbody>\n",
       "</table>\n",
       "<p>1655 rows × 7745 columns</p>\n",
       "</div>"
      ],
      "text/plain": [
       "                                   height_mean  Age_mean  weight_mean  \\\n",
       "year round homeTeam                                                     \n",
       "2012 1     Fremantle                      2.00     -0.52         0.89   \n",
       "           Gold Coast                     2.22     -2.55         0.61   \n",
       "           Greater Western Sydney         1.67     -2.92         0.39   \n",
       "           Hawthorn                      -0.44      2.37        -2.11   \n",
       "           Melbourne                     -1.28      0.42        -1.22   \n",
       "...                                        ...       ...          ...   \n",
       "2019 25    Brisbane Lions                -0.44     -0.88         0.72   \n",
       "           Geelong                        0.94     -1.15         2.33   \n",
       "     26    Collingwood                   -0.67      0.33        -1.50   \n",
       "           Richmond                      -3.61     -0.16        -4.17   \n",
       "     27    Richmond                      -4.94      0.31        -4.11   \n",
       "\n",
       "                                   gameNumber_mean  Start Time Hour  \\\n",
       "year round homeTeam                                                   \n",
       "2012 1     Fremantle                        -27.94             0.00   \n",
       "           Gold Coast                       -31.00             0.00   \n",
       "           Greater Western Sydney           -62.39             0.00   \n",
       "           Hawthorn                          35.89             0.00   \n",
       "           Melbourne                          1.33             0.00   \n",
       "...                                            ...              ...   \n",
       "2019 25    Brisbane Lions                    -7.06             0.00   \n",
       "           Geelong                          -25.39             0.00   \n",
       "     26    Collingwood                       14.67             0.00   \n",
       "           Richmond                           0.44             0.00   \n",
       "     27    Richmond                          15.56             0.00   \n",
       "\n",
       "                                   Start Time Minute  Is Home Team  Month  \\\n",
       "year round homeTeam                                                         \n",
       "2012 1     Fremantle                            0.00          1.00   0.00   \n",
       "           Gold Coast                           0.00          1.00   0.00   \n",
       "           Greater Western Sydney               0.00          1.00   0.00   \n",
       "           Hawthorn                             0.00          1.00   0.00   \n",
       "           Melbourne                            0.00          1.00   0.00   \n",
       "...                                              ...           ...    ...   \n",
       "2019 25    Brisbane Lions                       0.00          1.00   0.00   \n",
       "           Geelong                              0.00          1.00   0.00   \n",
       "     26    Collingwood                          0.00          1.00   0.00   \n",
       "           Richmond                             0.00          1.00   0.00   \n",
       "     27    Richmond                             0.00          1.00   0.00   \n",
       "\n",
       "                                   Day of Year  Weekday  ...  \\\n",
       "year round homeTeam                                      ...   \n",
       "2012 1     Fremantle                      0.00     0.00  ...   \n",
       "           Gold Coast                     0.00     0.00  ...   \n",
       "           Greater Western Sydney         0.00     0.00  ...   \n",
       "           Hawthorn                       0.00     0.00  ...   \n",
       "           Melbourne                      0.00     0.00  ...   \n",
       "...                                        ...      ...  ...   \n",
       "2019 25    Brisbane Lions                 0.00     0.00  ...   \n",
       "           Geelong                        0.00     0.00  ...   \n",
       "     26    Collingwood                    0.00     0.00  ...   \n",
       "           Richmond                       0.00     0.00  ...   \n",
       "     27    Richmond                       0.00     0.00  ...   \n",
       "\n",
       "                                   Opponent Team Score_prevous_year_mean_round_norm_nan_std  \\\n",
       "year round homeTeam                                                                           \n",
       "2012 1     Fremantle                                                            0.00          \n",
       "           Gold Coast                                                           0.00          \n",
       "           Greater Western Sydney                                               0.00          \n",
       "           Hawthorn                                                             0.00          \n",
       "           Melbourne                                                            0.00          \n",
       "...                                                                              ...          \n",
       "2019 25    Brisbane Lions                                                       0.00          \n",
       "           Geelong                                                              0.32          \n",
       "     26    Collingwood                                                          0.00          \n",
       "           Richmond                                                            -0.32          \n",
       "     27    Richmond                                                            -0.24          \n",
       "\n",
       "                                   Opponent Team Score_prevous_year_mean_game_norm_nan_std  \\\n",
       "year round homeTeam                                                                          \n",
       "2012 1     Fremantle                                                            0.00         \n",
       "           Gold Coast                                                           0.00         \n",
       "           Greater Western Sydney                                               0.00         \n",
       "           Hawthorn                                                             0.00         \n",
       "           Melbourne                                                            0.00         \n",
       "...                                                                              ...         \n",
       "2019 25    Brisbane Lions                                                       0.00         \n",
       "           Geelong                                                              0.32         \n",
       "     26    Collingwood                                                          0.00         \n",
       "           Richmond                                                            -0.32         \n",
       "     27    Richmond                                                            -0.24         \n",
       "\n",
       "                                   Margin_prevous_year_mean_round_norm_nan_std  \\\n",
       "year round homeTeam                                                              \n",
       "2012 1     Fremantle                                                      0.00   \n",
       "           Gold Coast                                                     0.00   \n",
       "           Greater Western Sydney                                         0.00   \n",
       "           Hawthorn                                                       0.00   \n",
       "           Melbourne                                                      0.00   \n",
       "...                                                                        ...   \n",
       "2019 25    Brisbane Lions                                                 0.00   \n",
       "           Geelong                                                        0.32   \n",
       "     26    Collingwood                                                    0.00   \n",
       "           Richmond                                                      -0.32   \n",
       "     27    Richmond                                                      -0.24   \n",
       "\n",
       "                                   Margin_prevous_year_mean_game_norm_nan_std  \\\n",
       "year round homeTeam                                                             \n",
       "2012 1     Fremantle                                                     0.00   \n",
       "           Gold Coast                                                    0.00   \n",
       "           Greater Western Sydney                                        0.00   \n",
       "           Hawthorn                                                      0.00   \n",
       "           Melbourne                                                     0.00   \n",
       "...                                                                       ...   \n",
       "2019 25    Brisbane Lions                                                0.00   \n",
       "           Geelong                                                       0.32   \n",
       "     26    Collingwood                                                   0.00   \n",
       "           Richmond                                                     -0.32   \n",
       "     27    Richmond                                                     -0.24   \n",
       "\n",
       "                                   Total Points Scored_prevous_year_mean_round_norm_nan_std  \\\n",
       "year round homeTeam                                                                           \n",
       "2012 1     Fremantle                                                            0.00          \n",
       "           Gold Coast                                                           0.00          \n",
       "           Greater Western Sydney                                               0.00          \n",
       "           Hawthorn                                                             0.00          \n",
       "           Melbourne                                                            0.00          \n",
       "...                                                                              ...          \n",
       "2019 25    Brisbane Lions                                                       0.00          \n",
       "           Geelong                                                              0.32          \n",
       "     26    Collingwood                                                          0.00          \n",
       "           Richmond                                                            -0.32          \n",
       "     27    Richmond                                                            -0.24          \n",
       "\n",
       "                                   Total Points Scored_prevous_year_mean_game_norm_nan_std  \\\n",
       "year round homeTeam                                                                          \n",
       "2012 1     Fremantle                                                            0.00         \n",
       "           Gold Coast                                                           0.00         \n",
       "           Greater Western Sydney                                               0.00         \n",
       "           Hawthorn                                                             0.00         \n",
       "           Melbourne                                                            0.00         \n",
       "...                                                                              ...         \n",
       "2019 25    Brisbane Lions                                                       0.00         \n",
       "           Geelong                                                              0.32         \n",
       "     26    Collingwood                                                          0.00         \n",
       "           Richmond                                                            -0.32         \n",
       "     27    Richmond                                                            -0.24         \n",
       "\n",
       "                                   Game Result_prevous_year_mean_round_norm_nan_std  \\\n",
       "year round homeTeam                                                                   \n",
       "2012 1     Fremantle                                                           0.00   \n",
       "           Gold Coast                                                          0.00   \n",
       "           Greater Western Sydney                                              0.00   \n",
       "           Hawthorn                                                            0.00   \n",
       "           Melbourne                                                           0.00   \n",
       "...                                                                             ...   \n",
       "2019 25    Brisbane Lions                                                      0.00   \n",
       "           Geelong                                                             0.32   \n",
       "     26    Collingwood                                                         0.00   \n",
       "           Richmond                                                           -0.32   \n",
       "     27    Richmond                                                           -0.24   \n",
       "\n",
       "                                   Game Result_prevous_year_mean_game_norm_nan_std  \\\n",
       "year round homeTeam                                                                  \n",
       "2012 1     Fremantle                                                          0.00   \n",
       "           Gold Coast                                                         0.00   \n",
       "           Greater Western Sydney                                             0.00   \n",
       "           Hawthorn                                                           0.00   \n",
       "           Melbourne                                                          0.00   \n",
       "...                                                                            ...   \n",
       "2019 25    Brisbane Lions                                                     0.00   \n",
       "           Geelong                                                            0.32   \n",
       "     26    Collingwood                                                        0.00   \n",
       "           Richmond                                                          -0.32   \n",
       "     27    Richmond                                                          -0.24   \n",
       "\n",
       "                                   gameNumber_prevous_year_mean_round_norm_nan_std  \\\n",
       "year round homeTeam                                                                  \n",
       "2012 1     Fremantle                                                          0.00   \n",
       "           Gold Coast                                                         0.00   \n",
       "           Greater Western Sydney                                             0.00   \n",
       "           Hawthorn                                                           0.00   \n",
       "           Melbourne                                                          0.00   \n",
       "...                                                                            ...   \n",
       "2019 25    Brisbane Lions                                                     0.00   \n",
       "           Geelong                                                            0.32   \n",
       "     26    Collingwood                                                        0.00   \n",
       "           Richmond                                                          -0.32   \n",
       "     27    Richmond                                                          -0.24   \n",
       "\n",
       "                                   gameNumber_prevous_year_mean_game_norm_nan_std  \n",
       "year round homeTeam                                                                \n",
       "2012 1     Fremantle                                                         0.00  \n",
       "           Gold Coast                                                        0.00  \n",
       "           Greater Western Sydney                                            0.00  \n",
       "           Hawthorn                                                          0.00  \n",
       "           Melbourne                                                         0.00  \n",
       "...                                                                           ...  \n",
       "2019 25    Brisbane Lions                                                    0.00  \n",
       "           Geelong                                                           0.32  \n",
       "     26    Collingwood                                                       0.00  \n",
       "           Richmond                                                         -0.32  \n",
       "     27    Richmond                                                         -0.24  \n",
       "\n",
       "[1655 rows x 7745 columns]"
      ]
     },
     "execution_count": 15,
     "metadata": {},
     "output_type": "execute_result"
    }
   ],
   "source": [
    "train_tipping_final"
   ]
  },
  {
   "cell_type": "code",
   "execution_count": 16,
   "id": "2ad2a2ef",
   "metadata": {},
   "outputs": [],
   "source": [
    "y_train_tipping = train_tipping_final['Target Margin']\n",
    "y_test_tipping = test_tipping_final['Target Margin']\n",
    "\n",
    "X_train_tipping = train_tipping_final.drop('Target Margin', axis=1)\n",
    "X_test_tipping = test_tipping_final.drop('Target Margin', axis=1)"
   ]
  },
  {
   "cell_type": "markdown",
   "id": "61a97b79",
   "metadata": {},
   "source": [
    "## Creating models"
   ]
  },
  {
   "cell_type": "code",
   "execution_count": 17,
   "id": "8874fd3a",
   "metadata": {},
   "outputs": [],
   "source": [
    "import xgboost as xgb\n",
    "from sklearn import metrics"
   ]
  },
  {
   "cell_type": "markdown",
   "id": "668b68f6",
   "metadata": {},
   "source": [
    "### Fantasy Predictions"
   ]
  },
  {
   "cell_type": "code",
   "execution_count": 18,
   "id": "34501bf4",
   "metadata": {},
   "outputs": [],
   "source": [
    "rf_fantasy = xgb.XGBRegressor()"
   ]
  },
  {
   "cell_type": "code",
   "execution_count": 19,
   "id": "4089bb46",
   "metadata": {},
   "outputs": [
    {
     "data": {
      "text/plain": [
       "XGBRegressor(base_score=0.5, booster='gbtree', callbacks=None,\n",
       "             colsample_bylevel=1, colsample_bynode=1, colsample_bytree=1,\n",
       "             early_stopping_rounds=None, enable_categorical=False,\n",
       "             eval_metric=None, gamma=0, gpu_id=-1, grow_policy='depthwise',\n",
       "             importance_type=None, interaction_constraints='',\n",
       "             learning_rate=0.300000012, max_bin=256, max_cat_to_onehot=4,\n",
       "             max_delta_step=0, max_depth=6, max_leaves=0, min_child_weight=1,\n",
       "             missing=nan, monotone_constraints='()', n_estimators=100, n_jobs=0,\n",
       "             num_parallel_tree=1, predictor='auto', random_state=0, reg_alpha=0,\n",
       "             reg_lambda=1, ...)"
      ]
     },
     "execution_count": 19,
     "metadata": {},
     "output_type": "execute_result"
    }
   ],
   "source": [
    "rf_fantasy.fit(X_train, y_train_fantasy)"
   ]
  },
  {
   "cell_type": "code",
   "execution_count": 20,
   "id": "3cc5c6dc",
   "metadata": {},
   "outputs": [],
   "source": [
    "predict_X_train_fantasy = rf_fantasy.predict(X_train)"
   ]
  },
  {
   "cell_type": "code",
   "execution_count": 21,
   "id": "cb1b90e6",
   "metadata": {},
   "outputs": [],
   "source": [
    "predict_X_test_fantasy = rf_fantasy.predict(X_test)"
   ]
  },
  {
   "cell_type": "code",
   "execution_count": 22,
   "id": "874925b8",
   "metadata": {},
   "outputs": [
    {
     "data": {
      "text/plain": [
       "13.098651552824576"
      ]
     },
     "execution_count": 22,
     "metadata": {},
     "output_type": "execute_result"
    }
   ],
   "source": [
    "metrics.mean_absolute_error(y_train_fantasy, predict_X_train_fantasy)"
   ]
  },
  {
   "cell_type": "code",
   "execution_count": 23,
   "id": "70e25c76",
   "metadata": {},
   "outputs": [
    {
     "data": {
      "text/plain": [
       "18.91577383740341"
      ]
     },
     "execution_count": 23,
     "metadata": {},
     "output_type": "execute_result"
    }
   ],
   "source": [
    "metrics.mean_absolute_error(y_test_fantasy, predict_X_test_fantasy)"
   ]
  },
  {
   "cell_type": "code",
   "execution_count": 24,
   "id": "5e6ccecd",
   "metadata": {},
   "outputs": [
    {
     "data": {
      "text/plain": [
       "0.20842311849315787"
      ]
     },
     "execution_count": 24,
     "metadata": {},
     "output_type": "execute_result"
    }
   ],
   "source": [
    "metrics.r2_score(y_test_fantasy, predict_X_test_fantasy)"
   ]
  },
  {
   "cell_type": "code",
   "execution_count": 25,
   "id": "54cdc8e6",
   "metadata": {},
   "outputs": [
    {
     "data": {
      "text/plain": [
       "count   59580.00\n",
       "mean       73.64\n",
       "std        27.09\n",
       "min        -3.00\n",
       "25%        55.00\n",
       "50%        72.00\n",
       "75%        91.00\n",
       "max       204.00\n",
       "Name: AFL Fantasy Points, dtype: float64"
      ]
     },
     "execution_count": 25,
     "metadata": {},
     "output_type": "execute_result"
    }
   ],
   "source": [
    "y_train_fantasy.describe()"
   ]
  },
  {
   "cell_type": "markdown",
   "id": "26327efc",
   "metadata": {},
   "source": [
    "### Supercoach Predictions"
   ]
  },
  {
   "cell_type": "code",
   "execution_count": 26,
   "id": "098b8dba",
   "metadata": {},
   "outputs": [],
   "source": [
    "rf_super = xgb.XGBRegressor()"
   ]
  },
  {
   "cell_type": "code",
   "execution_count": 27,
   "id": "e8ffafab",
   "metadata": {},
   "outputs": [
    {
     "data": {
      "text/plain": [
       "XGBRegressor(base_score=0.5, booster='gbtree', callbacks=None,\n",
       "             colsample_bylevel=1, colsample_bynode=1, colsample_bytree=1,\n",
       "             early_stopping_rounds=None, enable_categorical=False,\n",
       "             eval_metric=None, gamma=0, gpu_id=-1, grow_policy='depthwise',\n",
       "             importance_type=None, interaction_constraints='',\n",
       "             learning_rate=0.300000012, max_bin=256, max_cat_to_onehot=4,\n",
       "             max_delta_step=0, max_depth=6, max_leaves=0, min_child_weight=1,\n",
       "             missing=nan, monotone_constraints='()', n_estimators=100, n_jobs=0,\n",
       "             num_parallel_tree=1, predictor='auto', random_state=0, reg_alpha=0,\n",
       "             reg_lambda=1, ...)"
      ]
     },
     "execution_count": 27,
     "metadata": {},
     "output_type": "execute_result"
    }
   ],
   "source": [
    "rf_super.fit(X_train, y_train_super)"
   ]
  },
  {
   "cell_type": "code",
   "execution_count": 28,
   "id": "a04147ac",
   "metadata": {},
   "outputs": [],
   "source": [
    "predict_X_train_super = rf_super.predict(X_train)"
   ]
  },
  {
   "cell_type": "code",
   "execution_count": 29,
   "id": "92626620",
   "metadata": {},
   "outputs": [],
   "source": [
    "predict_X_test_super = rf_super.predict(X_test)"
   ]
  },
  {
   "cell_type": "code",
   "execution_count": 30,
   "id": "5311f9dd",
   "metadata": {},
   "outputs": [
    {
     "data": {
      "text/plain": [
       "19.406725061480014"
      ]
     },
     "execution_count": 30,
     "metadata": {},
     "output_type": "execute_result"
    }
   ],
   "source": [
    "metrics.mean_absolute_error(y_train_super, predict_X_train_super)"
   ]
  },
  {
   "cell_type": "code",
   "execution_count": 31,
   "id": "9680a781",
   "metadata": {},
   "outputs": [
    {
     "data": {
      "text/plain": [
       "28.055788057678186"
      ]
     },
     "execution_count": 31,
     "metadata": {},
     "output_type": "execute_result"
    }
   ],
   "source": [
    "metrics.mean_absolute_error(y_test_super, predict_X_test_super)"
   ]
  },
  {
   "cell_type": "code",
   "execution_count": 32,
   "id": "24374f82",
   "metadata": {},
   "outputs": [
    {
     "data": {
      "text/plain": [
       "0.3251736870840761"
      ]
     },
     "execution_count": 32,
     "metadata": {},
     "output_type": "execute_result"
    }
   ],
   "source": [
    "metrics.r2_score(y_test_super, predict_X_test_super)"
   ]
  },
  {
   "cell_type": "code",
   "execution_count": 33,
   "id": "662e96a4",
   "metadata": {},
   "outputs": [
    {
     "data": {
      "text/plain": [
       "count   59580.00\n",
       "mean      102.54\n",
       "std        46.26\n",
       "min        -4.00\n",
       "25%        72.00\n",
       "50%        97.00\n",
       "75%       126.00\n",
       "max       484.00\n",
       "Name: Supercoach Points, dtype: float64"
      ]
     },
     "execution_count": 33,
     "metadata": {},
     "output_type": "execute_result"
    }
   ],
   "source": [
    "y_train_super.describe()"
   ]
  },
  {
   "cell_type": "markdown",
   "id": "e3c471be",
   "metadata": {},
   "source": [
    "### Tipping Predictions"
   ]
  },
  {
   "cell_type": "code",
   "execution_count": 34,
   "id": "2c6729dc",
   "metadata": {},
   "outputs": [],
   "source": [
    "from sklearn.linear_model import ElasticNet"
   ]
  },
  {
   "cell_type": "code",
   "execution_count": 35,
   "id": "1b31fea5",
   "metadata": {},
   "outputs": [],
   "source": [
    "rf_tipping = ElasticNet()"
   ]
  },
  {
   "cell_type": "code",
   "execution_count": 36,
   "id": "5d26fd7d",
   "metadata": {},
   "outputs": [
    {
     "data": {
      "text/plain": [
       "ElasticNet()"
      ]
     },
     "execution_count": 36,
     "metadata": {},
     "output_type": "execute_result"
    }
   ],
   "source": [
    "rf_tipping.fit(X_train_tipping, y_train_tipping)"
   ]
  },
  {
   "cell_type": "code",
   "execution_count": 37,
   "id": "ade66ddb",
   "metadata": {},
   "outputs": [],
   "source": [
    "predict_X_train_tipping = rf_tipping.predict(X_train_tipping)"
   ]
  },
  {
   "cell_type": "code",
   "execution_count": 38,
   "id": "a9dc981b",
   "metadata": {},
   "outputs": [],
   "source": [
    "predict_X_test_tipping = rf_tipping.predict(X_test_tipping)"
   ]
  },
  {
   "cell_type": "code",
   "execution_count": 39,
   "id": "34c2fd35",
   "metadata": {},
   "outputs": [
    {
     "data": {
      "text/plain": [
       "25.166105050503866"
      ]
     },
     "execution_count": 39,
     "metadata": {},
     "output_type": "execute_result"
    }
   ],
   "source": [
    "metrics.mean_absolute_error(y_train_tipping, predict_X_train_tipping)"
   ]
  },
  {
   "cell_type": "code",
   "execution_count": 40,
   "id": "0e2d781d",
   "metadata": {},
   "outputs": [
    {
     "data": {
      "text/plain": [
       "27.465875998467737"
      ]
     },
     "execution_count": 40,
     "metadata": {},
     "output_type": "execute_result"
    }
   ],
   "source": [
    "metrics.mean_absolute_error(y_test_tipping, predict_X_test_tipping)"
   ]
  },
  {
   "cell_type": "code",
   "execution_count": 41,
   "id": "275ef6c2",
   "metadata": {},
   "outputs": [
    {
     "data": {
      "text/plain": [
       "0.028518166517410015"
      ]
     },
     "execution_count": 41,
     "metadata": {},
     "output_type": "execute_result"
    }
   ],
   "source": [
    "metrics.r2_score(y_test_tipping, predict_X_test_tipping)"
   ]
  },
  {
   "cell_type": "code",
   "execution_count": 42,
   "id": "0450a1ff",
   "metadata": {},
   "outputs": [
    {
     "data": {
      "text/plain": [
       "0.6233062330623306"
      ]
     },
     "execution_count": 42,
     "metadata": {},
     "output_type": "execute_result"
    }
   ],
   "source": [
    "correct = 0\n",
    "incorrect = 0\n",
    "\n",
    "for a, b in zip(y_test_tipping, predict_X_test_tipping):\n",
    "    if a>0 and b>0 or a<0 and b<0 or a==0 and b==0:\n",
    "        correct += 1\n",
    "    else:\n",
    "        incorrect += 1\n",
    "\n",
    "correct / (correct + incorrect)"
   ]
  },
  {
   "cell_type": "code",
   "execution_count": 43,
   "id": "126cf301",
   "metadata": {},
   "outputs": [
    {
     "data": {
      "text/plain": [
       "count   1655.00\n",
       "mean       6.35\n",
       "std       44.48\n",
       "min     -138.00\n",
       "25%      -23.00\n",
       "50%        5.00\n",
       "75%       35.00\n",
       "max      162.00\n",
       "Name: Target Margin, dtype: float64"
      ]
     },
     "execution_count": 43,
     "metadata": {},
     "output_type": "execute_result"
    }
   ],
   "source": [
    "y_train_tipping.describe()"
   ]
  },
  {
   "cell_type": "markdown",
   "id": "4922de7b",
   "metadata": {},
   "source": [
    "### Exporting Models"
   ]
  },
  {
   "cell_type": "code",
   "execution_count": 44,
   "id": "39b5b2cd",
   "metadata": {},
   "outputs": [],
   "source": [
    "import joblib"
   ]
  },
  {
   "cell_type": "code",
   "execution_count": 45,
   "id": "b628dc39",
   "metadata": {},
   "outputs": [],
   "source": [
    "joblib.dump(rf_fantasy, 'fantasy model.pkl', compress=9)\n",
    "joblib.dump(rf_super, 'supercoach model.pkl', compress=9)\n",
    "joblib.dump(rf_tipping, 'tipping model.pkl', compress=9);"
   ]
  }
 ],
 "metadata": {
  "kernelspec": {
   "display_name": "Python 3 (ipykernel)",
   "language": "python",
   "name": "python3"
  },
  "language_info": {
   "codemirror_mode": {
    "name": "ipython",
    "version": 3
   },
   "file_extension": ".py",
   "mimetype": "text/x-python",
   "name": "python",
   "nbconvert_exporter": "python",
   "pygments_lexer": "ipython3",
   "version": "3.8.13"
  }
 },
 "nbformat": 4,
 "nbformat_minor": 5
}
